{
 "cells": [
  {
   "cell_type": "code",
   "execution_count": 1,
   "metadata": {},
   "outputs": [],
   "source": [
    "import pandas as pd\n",
    "import numpy as np\n",
    "import requests\n",
    "import datetime\n",
    "import plotly.express as px\n",
    "import plotly.graph_objects as go\n",
    "import scipy\n",
    "import networkx as nx\n",
    "import time"
   ]
  },
  {
   "cell_type": "code",
   "execution_count": null,
   "metadata": {},
   "outputs": [],
   "source": [
    "def load_round_projects_data(round_id, chain_id):\n",
    "    # prepare the URLs\n",
    "    projects_url = 'https://indexer-grants-stack.gitcoin.co/data/' + chain_id +'/rounds/' + round_id + '/projects.json'\n",
    "    print(projects_url)\n",
    "    try:\n",
    "        # download the Projects JSON data from the URL\n",
    "        response = requests.get(projects_url)\n",
    "        if response.status_code == 200:\n",
    "            projects_data = response.json()\n",
    "\n",
    "        # Extract the relevant data from each project\n",
    "        projects = []\n",
    "        for project in projects_data:\n",
    "            project_data = {\n",
    "                'id': project['id'],\n",
    "                'title': project['metadata']['application']['project']['title'],\n",
    "                'grantAddress': project['metadata']['application']['recipient'],\n",
    "                'status': project['status'],\n",
    "                'amountUSD': project['amountUSD'],\n",
    "                'votes': project['votes'],\n",
    "                'uniqueContributors': project['uniqueContributors'],\n",
    "                'description': project['metadata']['application']['project']['description']\n",
    "            }\n",
    "            projects.append(project_data)\n",
    "        # Create a DataFrame from the extracted data\n",
    "        dfp = pd.DataFrame(projects)\n",
    "        # Reorder the columns to match the desired order and rename column id to project_id\n",
    "        dfp = dfp[['id', 'title', 'grantAddress', 'status', 'amountUSD', 'votes', 'uniqueContributors', 'description']]\n",
    "        dfp = dfp.rename(columns={'id': 'project_id'})\n",
    "        # Filter to only approved projects\n",
    "        dfp = dfp[dfp['status'] == 'APPROVED']\n",
    "        return dfp\n",
    "    except:\n",
    "        return pd.DataFrame()\n",
    "    \n",
    "\n",
    "def load_round_votes_data(round_id, chain_id):\n",
    "    votes_url = 'https://indexer-grants-stack.gitcoin.co/data/' + chain_id + '/rounds/' + round_id + '/votes.json'\n",
    "    try:\n",
    "        # download the Votes JSON data from the URL\n",
    "        response = requests.get(votes_url)\n",
    "        if response.status_code == 200:\n",
    "            votes_data = response.json()\n",
    "        df = pd.DataFrame(votes_data)\n",
    "        return df\n",
    "    except:\n",
    "        return pd.DataFrame()\n",
    "\n",
    "def load_round_data(round_id, chain_id):\n",
    "    dfp = load_round_projects_data(round_id, chain_id)\n",
    "    dfv = load_round_votes_data(round_id, chain_id)\n",
    "    dfv = pd.merge(dfv, dfp[['project_id', 'title', 'status']], how='left', left_on='projectId', right_on='project_id')\n",
    "    return dfv\n",
    "\n",
    "def load_passport_data():\n",
    "    url = 'https://indexer-grants-stack.gitcoin.co/data/passport_scores.json'\n",
    "    try:\n",
    "        response = requests.get(url)\n",
    "        if response.status_code == 200:\n",
    "            passport_data = response.json()\n",
    "        passports = []\n",
    "        for passport in passport_data:\n",
    "            data = {\n",
    "                'address': passport['address'],\n",
    "                'last_score_timestamp': passport['last_score_timestamp'],\n",
    "                'status': passport['status'],\n",
    "                'rawScore': passport['evidence']['rawScore'] if 'evidence' in passport and passport['evidence'] is not None and 'rawScore' in passport['evidence'] else 0,\n",
    "            }\n",
    "            passports.append(data)\n",
    "        df = pd.DataFrame(passports)\n",
    "        df['last_score_timestamp'] = pd.to_datetime(df['last_score_timestamp'])\n",
    "        return df\n",
    "    except Exception as e:\n",
    "        print('Error loading passport data')\n",
    "        print(f'Error details: {e}')  # Print the details of the error\n",
    "        return pd.DataFrame()\n"
   ]
  },
  {
   "cell_type": "code",
   "execution_count": null,
   "metadata": {},
   "outputs": [],
   "source": [
    "round_id = '0x984e29dCB4286c2D9cbAA2c238AfDd8A191Eefbc'\n",
    "chain_id = '10'\n",
    "round_data = load_round_data(round_id, chain_id)\n",
    "round_data.head(10)\n",
    "df = round_data"
   ]
  },
  {
   "cell_type": "code",
   "execution_count": null,
   "metadata": {},
   "outputs": [],
   "source": [
    "round_data.to_csv('citizens_round_votes.csv', index=False)"
   ]
  },
  {
   "cell_type": "code",
   "execution_count": null,
   "metadata": {},
   "outputs": [],
   "source": [
    "df = pd.read_csv('citizens_round_votes.csv')\n",
    "print(df.shape)"
   ]
  },
  {
   "cell_type": "code",
   "execution_count": null,
   "metadata": {},
   "outputs": [],
   "source": [
    "dfpp = load_passport_data()\n",
    "# keep passports that are in round\n",
    "dfpp['address'] = dfpp['address'].str.lower()\n",
    "dfpp = dfpp[dfpp['address'].isin(df['voter'].str.lower())]\n",
    "# find the latest passport score for each address\n",
    "dfpp = dfpp.sort_values(by=['address', 'last_score_timestamp'], ascending=False)\n",
    "dfpp = dfpp.drop_duplicates(subset=['address'], keep='first')\n",
    "print(dfpp.shape)\n",
    "dfpp.head(10)"
   ]
  },
  {
   "cell_type": "code",
   "execution_count": null,
   "metadata": {},
   "outputs": [],
   "source": [
    "dfpp.to_csv('citizens_round_passports.csv', index=False)"
   ]
  },
  {
   "cell_type": "code",
   "execution_count": 2,
   "metadata": {},
   "outputs": [
    {
     "name": "stdout",
     "output_type": "stream",
     "text": [
      "Number of projects:  33\n",
      "Number of voters:  17021\n",
      "Total amountUSD:  82968.02490585999\n",
      "Number of votes:  57344\n",
      "Number of passports:  12105\n"
     ]
    }
   ],
   "source": [
    "## START HERE\n",
    "\n",
    "dfpp = pd.read_csv('citizens_round_passports.csv')\n",
    "df = pd.read_csv('citizens_round_votes.csv')\n",
    "\n",
    "print('Number of projects: ', df['project_id'].nunique())\n",
    "print('Number of voters: ', df['voter'].nunique())\n",
    "print('Total amountUSD: ', df['amountUSD'].sum())\n",
    "print('Number of votes: ', df['amountUSD'].count())\n",
    "print('Number of passports: ', dfpp['address'].nunique())"
   ]
  },
  {
   "cell_type": "code",
   "execution_count": 3,
   "metadata": {},
   "outputs": [
    {
     "data": {
      "text/html": [
       "<div>\n",
       "<style scoped>\n",
       "    .dataframe tbody tr th:only-of-type {\n",
       "        vertical-align: middle;\n",
       "    }\n",
       "\n",
       "    .dataframe tbody tr th {\n",
       "        vertical-align: top;\n",
       "    }\n",
       "\n",
       "    .dataframe thead th {\n",
       "        text-align: right;\n",
       "    }\n",
       "</style>\n",
       "<table border=\"1\" class=\"dataframe\">\n",
       "  <thead>\n",
       "    <tr style=\"text-align: right;\">\n",
       "      <th></th>\n",
       "      <th>id</th>\n",
       "      <th>transaction</th>\n",
       "      <th>blockNumber</th>\n",
       "      <th>projectId</th>\n",
       "      <th>applicationId</th>\n",
       "      <th>roundId</th>\n",
       "      <th>voter</th>\n",
       "      <th>grantAddress</th>\n",
       "      <th>token</th>\n",
       "      <th>amount</th>\n",
       "      <th>amountUSD</th>\n",
       "      <th>amountRoundToken</th>\n",
       "      <th>project_id</th>\n",
       "      <th>title</th>\n",
       "      <th>status</th>\n",
       "      <th>address</th>\n",
       "      <th>passport_score</th>\n",
       "    </tr>\n",
       "  </thead>\n",
       "  <tbody>\n",
       "    <tr>\n",
       "      <th>0</th>\n",
       "      <td>0xa2ef81cd02b7de8739d384be71e0549c62368b737cd5...</td>\n",
       "      <td>0x4193c793a5a082818c36b4736f9a8c8eaabfa62bc0d0...</td>\n",
       "      <td>105529598</td>\n",
       "      <td>0x0ba24d30bb476404f6982bb4868cb351afb593fda0b4...</td>\n",
       "      <td>15</td>\n",
       "      <td>0x984e29dCB4286c2D9cbAA2c238AfDd8A191Eefbc</td>\n",
       "      <td>0x6a096fc442548dcbbfa3a0de4b01c125ba6b61ae</td>\n",
       "      <td>0x9DCbA70B2dfe5807e2A847E065EBb666791F8b8A</td>\n",
       "      <td>0x0000000000000000000000000000000000000000</td>\n",
       "      <td>10000000000000</td>\n",
       "      <td>0.017484</td>\n",
       "      <td>17487700000000000</td>\n",
       "      <td>0x0ba24d30bb476404f6982bb4868cb351afb593fda0b4...</td>\n",
       "      <td>Borderless</td>\n",
       "      <td>APPROVED</td>\n",
       "      <td>0x6a096fc442548dcbbfa3a0de4b01c125ba6b61ae</td>\n",
       "      <td>20.95</td>\n",
       "    </tr>\n",
       "    <tr>\n",
       "      <th>1</th>\n",
       "      <td>0xc671d80db54bb3d2fc456d6ae274a45416f957c6a1e1...</td>\n",
       "      <td>0x4193c793a5a082818c36b4736f9a8c8eaabfa62bc0d0...</td>\n",
       "      <td>105529598</td>\n",
       "      <td>0xe30120fba15bb05932c69f2518abef5548461ef6d62c...</td>\n",
       "      <td>51</td>\n",
       "      <td>0x984e29dCB4286c2D9cbAA2c238AfDd8A191Eefbc</td>\n",
       "      <td>0x6a096fc442548dcbbfa3a0de4b01c125ba6b61ae</td>\n",
       "      <td>0x3fB0D1e89693b8709de60d835452a4712d1c9B04</td>\n",
       "      <td>0x0000000000000000000000000000000000000000</td>\n",
       "      <td>10000000000000</td>\n",
       "      <td>0.017484</td>\n",
       "      <td>17487700000000000</td>\n",
       "      <td>0xe30120fba15bb05932c69f2518abef5548461ef6d62c...</td>\n",
       "      <td>Gitcoin Awareness and Female Founder Amplifica...</td>\n",
       "      <td>APPROVED</td>\n",
       "      <td>0x6a096fc442548dcbbfa3a0de4b01c125ba6b61ae</td>\n",
       "      <td>20.95</td>\n",
       "    </tr>\n",
       "    <tr>\n",
       "      <th>2</th>\n",
       "      <td>0xe175dba0fea13d8086261d2119781b3658b7f8561b0c...</td>\n",
       "      <td>0x4193c793a5a082818c36b4736f9a8c8eaabfa62bc0d0...</td>\n",
       "      <td>105529598</td>\n",
       "      <td>0x43a09a9e0a2c4c39ca4245a3c11fbd1d7def71275c93...</td>\n",
       "      <td>41</td>\n",
       "      <td>0x984e29dCB4286c2D9cbAA2c238AfDd8A191Eefbc</td>\n",
       "      <td>0x6a096fc442548dcbbfa3a0de4b01c125ba6b61ae</td>\n",
       "      <td>0xb62E762Af637b49Eb4870BCe8fE21bffF189e495</td>\n",
       "      <td>0x0000000000000000000000000000000000000000</td>\n",
       "      <td>10000000000000</td>\n",
       "      <td>0.017484</td>\n",
       "      <td>17487700000000000</td>\n",
       "      <td>0x43a09a9e0a2c4c39ca4245a3c11fbd1d7def71275c93...</td>\n",
       "      <td>ZER8's Gitcoin Citizen Round Application</td>\n",
       "      <td>APPROVED</td>\n",
       "      <td>0x6a096fc442548dcbbfa3a0de4b01c125ba6b61ae</td>\n",
       "      <td>20.95</td>\n",
       "    </tr>\n",
       "    <tr>\n",
       "      <th>3</th>\n",
       "      <td>0x32c19a76249aefe8d6300d0e69ab3a64570d8c98e035...</td>\n",
       "      <td>0x4193c793a5a082818c36b4736f9a8c8eaabfa62bc0d0...</td>\n",
       "      <td>105529598</td>\n",
       "      <td>0x9bc6d951ac597c8938efa6add91295a5ec90bc6c9197...</td>\n",
       "      <td>52</td>\n",
       "      <td>0x984e29dCB4286c2D9cbAA2c238AfDd8A191Eefbc</td>\n",
       "      <td>0x6a096fc442548dcbbfa3a0de4b01c125ba6b61ae</td>\n",
       "      <td>0xfC9265A28f66CF4561D74A4E25D7Bbd3F482B8e6</td>\n",
       "      <td>0x0000000000000000000000000000000000000000</td>\n",
       "      <td>10000000000000</td>\n",
       "      <td>0.017484</td>\n",
       "      <td>17487700000000000</td>\n",
       "      <td>0x9bc6d951ac597c8938efa6add91295a5ec90bc6c9197...</td>\n",
       "      <td>Jimi Cohen - Gitcoin Radio</td>\n",
       "      <td>APPROVED</td>\n",
       "      <td>0x6a096fc442548dcbbfa3a0de4b01c125ba6b61ae</td>\n",
       "      <td>20.95</td>\n",
       "    </tr>\n",
       "    <tr>\n",
       "      <th>4</th>\n",
       "      <td>0x47455e92cfd3a7523dcd54b0a0dff0cdfa96fa3c2188...</td>\n",
       "      <td>0x4193c793a5a082818c36b4736f9a8c8eaabfa62bc0d0...</td>\n",
       "      <td>105529598</td>\n",
       "      <td>0x82c03736f3abd9c21b31598ad17cb028b80876716727...</td>\n",
       "      <td>16</td>\n",
       "      <td>0x984e29dCB4286c2D9cbAA2c238AfDd8A191Eefbc</td>\n",
       "      <td>0x6a096fc442548dcbbfa3a0de4b01c125ba6b61ae</td>\n",
       "      <td>0xe1887fF140BfA9D3b45D0B2077b7471124acD242</td>\n",
       "      <td>0x0000000000000000000000000000000000000000</td>\n",
       "      <td>10000000000000</td>\n",
       "      <td>0.017484</td>\n",
       "      <td>17487700000000000</td>\n",
       "      <td>0x82c03736f3abd9c21b31598ad17cb028b80876716727...</td>\n",
       "      <td>Bankless Academy</td>\n",
       "      <td>APPROVED</td>\n",
       "      <td>0x6a096fc442548dcbbfa3a0de4b01c125ba6b61ae</td>\n",
       "      <td>20.95</td>\n",
       "    </tr>\n",
       "    <tr>\n",
       "      <th>5</th>\n",
       "      <td>0xd8b21fcda2b111f4bc3f7818593084414b71834f4c4d...</td>\n",
       "      <td>0x4193c793a5a082818c36b4736f9a8c8eaabfa62bc0d0...</td>\n",
       "      <td>105529598</td>\n",
       "      <td>0x5d79092725d85663a135c9841b6c8445f20132ee2595...</td>\n",
       "      <td>57</td>\n",
       "      <td>0x984e29dCB4286c2D9cbAA2c238AfDd8A191Eefbc</td>\n",
       "      <td>0x6a096fc442548dcbbfa3a0de4b01c125ba6b61ae</td>\n",
       "      <td>0xA40ba205ADD80C214eC7A710E790A54D738c4c27</td>\n",
       "      <td>0x0000000000000000000000000000000000000000</td>\n",
       "      <td>10000000000000</td>\n",
       "      <td>0.017484</td>\n",
       "      <td>17487700000000000</td>\n",
       "      <td>0x5d79092725d85663a135c9841b6c8445f20132ee2595...</td>\n",
       "      <td>40acres DAO</td>\n",
       "      <td>APPROVED</td>\n",
       "      <td>0x6a096fc442548dcbbfa3a0de4b01c125ba6b61ae</td>\n",
       "      <td>20.95</td>\n",
       "    </tr>\n",
       "    <tr>\n",
       "      <th>6</th>\n",
       "      <td>0xd840e75eb359eb8ec6ce4269f130c6109ce1dc1eab7a...</td>\n",
       "      <td>0x4193c793a5a082818c36b4736f9a8c8eaabfa62bc0d0...</td>\n",
       "      <td>105529598</td>\n",
       "      <td>0x7504217cb61d4b90163e8fb0f9801f597b6972a43ad7...</td>\n",
       "      <td>9</td>\n",
       "      <td>0x984e29dCB4286c2D9cbAA2c238AfDd8A191Eefbc</td>\n",
       "      <td>0x6a096fc442548dcbbfa3a0de4b01c125ba6b61ae</td>\n",
       "      <td>0x850a146D7478dAAa98Fc26Fd85e6A24e50846A9d</td>\n",
       "      <td>0x0000000000000000000000000000000000000000</td>\n",
       "      <td>10000000000000</td>\n",
       "      <td>0.017484</td>\n",
       "      <td>17487700000000000</td>\n",
       "      <td>0x7504217cb61d4b90163e8fb0f9801f597b6972a43ad7...</td>\n",
       "      <td>Zuzalu Gitcoin Hype Squad</td>\n",
       "      <td>APPROVED</td>\n",
       "      <td>0x6a096fc442548dcbbfa3a0de4b01c125ba6b61ae</td>\n",
       "      <td>20.95</td>\n",
       "    </tr>\n",
       "    <tr>\n",
       "      <th>7</th>\n",
       "      <td>0x02b2216d35c28b9fc4640a25bd8c2efeb50931ed7751...</td>\n",
       "      <td>0x4193c793a5a082818c36b4736f9a8c8eaabfa62bc0d0...</td>\n",
       "      <td>105529598</td>\n",
       "      <td>0x62974e6c4e31dfdaf58ccabea96cc589c38152acdb12...</td>\n",
       "      <td>34</td>\n",
       "      <td>0x984e29dCB4286c2D9cbAA2c238AfDd8A191Eefbc</td>\n",
       "      <td>0x6a096fc442548dcbbfa3a0de4b01c125ba6b61ae</td>\n",
       "      <td>0x9531C059098e3d194fF87FebB587aB07B30B1306</td>\n",
       "      <td>0x0000000000000000000000000000000000000000</td>\n",
       "      <td>10000000000000</td>\n",
       "      <td>0.017484</td>\n",
       "      <td>17487700000000000</td>\n",
       "      <td>0x62974e6c4e31dfdaf58ccabea96cc589c38152acdb12...</td>\n",
       "      <td>Lefteris Karapetsas</td>\n",
       "      <td>APPROVED</td>\n",
       "      <td>0x6a096fc442548dcbbfa3a0de4b01c125ba6b61ae</td>\n",
       "      <td>20.95</td>\n",
       "    </tr>\n",
       "    <tr>\n",
       "      <th>8</th>\n",
       "      <td>0x704820d88831180a453d710669f2e1e2c1e902793860...</td>\n",
       "      <td>0x4193c793a5a082818c36b4736f9a8c8eaabfa62bc0d0...</td>\n",
       "      <td>105529598</td>\n",
       "      <td>0x6f695afd2be3f0eeec75479e770bf31cfc49a112d286...</td>\n",
       "      <td>35</td>\n",
       "      <td>0x984e29dCB4286c2D9cbAA2c238AfDd8A191Eefbc</td>\n",
       "      <td>0x6a096fc442548dcbbfa3a0de4b01c125ba6b61ae</td>\n",
       "      <td>0x8615B6Ed9468CbB58CfdF45c120B87E15add787F</td>\n",
       "      <td>0x0000000000000000000000000000000000000000</td>\n",
       "      <td>10000000000000</td>\n",
       "      <td>0.017484</td>\n",
       "      <td>17487700000000000</td>\n",
       "      <td>0x6f695afd2be3f0eeec75479e770bf31cfc49a112d286...</td>\n",
       "      <td>Gitcoin Onboarding with Regens Unite</td>\n",
       "      <td>APPROVED</td>\n",
       "      <td>0x6a096fc442548dcbbfa3a0de4b01c125ba6b61ae</td>\n",
       "      <td>20.95</td>\n",
       "    </tr>\n",
       "    <tr>\n",
       "      <th>9</th>\n",
       "      <td>0x172996b03073935710ab27bd423564b35d21fc09c8f2...</td>\n",
       "      <td>0x4193c793a5a082818c36b4736f9a8c8eaabfa62bc0d0...</td>\n",
       "      <td>105529598</td>\n",
       "      <td>0x7ac59a9fe364f16fc959499353d66a09aa89a3c8cb05...</td>\n",
       "      <td>18</td>\n",
       "      <td>0x984e29dCB4286c2D9cbAA2c238AfDd8A191Eefbc</td>\n",
       "      <td>0x6a096fc442548dcbbfa3a0de4b01c125ba6b61ae</td>\n",
       "      <td>0x5a5D9aB7b1bD978F80909503EBb828879daCa9C3</td>\n",
       "      <td>0x0000000000000000000000000000000000000000</td>\n",
       "      <td>10000000000000</td>\n",
       "      <td>0.017484</td>\n",
       "      <td>17487700000000000</td>\n",
       "      <td>0x7ac59a9fe364f16fc959499353d66a09aa89a3c8cb05...</td>\n",
       "      <td>Carl Cervone - Onchain Impact Evaluatooooor</td>\n",
       "      <td>APPROVED</td>\n",
       "      <td>0x6a096fc442548dcbbfa3a0de4b01c125ba6b61ae</td>\n",
       "      <td>20.95</td>\n",
       "    </tr>\n",
       "  </tbody>\n",
       "</table>\n",
       "</div>"
      ],
      "text/plain": [
       "                                                  id  \\\n",
       "0  0xa2ef81cd02b7de8739d384be71e0549c62368b737cd5...   \n",
       "1  0xc671d80db54bb3d2fc456d6ae274a45416f957c6a1e1...   \n",
       "2  0xe175dba0fea13d8086261d2119781b3658b7f8561b0c...   \n",
       "3  0x32c19a76249aefe8d6300d0e69ab3a64570d8c98e035...   \n",
       "4  0x47455e92cfd3a7523dcd54b0a0dff0cdfa96fa3c2188...   \n",
       "5  0xd8b21fcda2b111f4bc3f7818593084414b71834f4c4d...   \n",
       "6  0xd840e75eb359eb8ec6ce4269f130c6109ce1dc1eab7a...   \n",
       "7  0x02b2216d35c28b9fc4640a25bd8c2efeb50931ed7751...   \n",
       "8  0x704820d88831180a453d710669f2e1e2c1e902793860...   \n",
       "9  0x172996b03073935710ab27bd423564b35d21fc09c8f2...   \n",
       "\n",
       "                                         transaction  blockNumber  \\\n",
       "0  0x4193c793a5a082818c36b4736f9a8c8eaabfa62bc0d0...    105529598   \n",
       "1  0x4193c793a5a082818c36b4736f9a8c8eaabfa62bc0d0...    105529598   \n",
       "2  0x4193c793a5a082818c36b4736f9a8c8eaabfa62bc0d0...    105529598   \n",
       "3  0x4193c793a5a082818c36b4736f9a8c8eaabfa62bc0d0...    105529598   \n",
       "4  0x4193c793a5a082818c36b4736f9a8c8eaabfa62bc0d0...    105529598   \n",
       "5  0x4193c793a5a082818c36b4736f9a8c8eaabfa62bc0d0...    105529598   \n",
       "6  0x4193c793a5a082818c36b4736f9a8c8eaabfa62bc0d0...    105529598   \n",
       "7  0x4193c793a5a082818c36b4736f9a8c8eaabfa62bc0d0...    105529598   \n",
       "8  0x4193c793a5a082818c36b4736f9a8c8eaabfa62bc0d0...    105529598   \n",
       "9  0x4193c793a5a082818c36b4736f9a8c8eaabfa62bc0d0...    105529598   \n",
       "\n",
       "                                           projectId  applicationId  \\\n",
       "0  0x0ba24d30bb476404f6982bb4868cb351afb593fda0b4...             15   \n",
       "1  0xe30120fba15bb05932c69f2518abef5548461ef6d62c...             51   \n",
       "2  0x43a09a9e0a2c4c39ca4245a3c11fbd1d7def71275c93...             41   \n",
       "3  0x9bc6d951ac597c8938efa6add91295a5ec90bc6c9197...             52   \n",
       "4  0x82c03736f3abd9c21b31598ad17cb028b80876716727...             16   \n",
       "5  0x5d79092725d85663a135c9841b6c8445f20132ee2595...             57   \n",
       "6  0x7504217cb61d4b90163e8fb0f9801f597b6972a43ad7...              9   \n",
       "7  0x62974e6c4e31dfdaf58ccabea96cc589c38152acdb12...             34   \n",
       "8  0x6f695afd2be3f0eeec75479e770bf31cfc49a112d286...             35   \n",
       "9  0x7ac59a9fe364f16fc959499353d66a09aa89a3c8cb05...             18   \n",
       "\n",
       "                                      roundId  \\\n",
       "0  0x984e29dCB4286c2D9cbAA2c238AfDd8A191Eefbc   \n",
       "1  0x984e29dCB4286c2D9cbAA2c238AfDd8A191Eefbc   \n",
       "2  0x984e29dCB4286c2D9cbAA2c238AfDd8A191Eefbc   \n",
       "3  0x984e29dCB4286c2D9cbAA2c238AfDd8A191Eefbc   \n",
       "4  0x984e29dCB4286c2D9cbAA2c238AfDd8A191Eefbc   \n",
       "5  0x984e29dCB4286c2D9cbAA2c238AfDd8A191Eefbc   \n",
       "6  0x984e29dCB4286c2D9cbAA2c238AfDd8A191Eefbc   \n",
       "7  0x984e29dCB4286c2D9cbAA2c238AfDd8A191Eefbc   \n",
       "8  0x984e29dCB4286c2D9cbAA2c238AfDd8A191Eefbc   \n",
       "9  0x984e29dCB4286c2D9cbAA2c238AfDd8A191Eefbc   \n",
       "\n",
       "                                        voter  \\\n",
       "0  0x6a096fc442548dcbbfa3a0de4b01c125ba6b61ae   \n",
       "1  0x6a096fc442548dcbbfa3a0de4b01c125ba6b61ae   \n",
       "2  0x6a096fc442548dcbbfa3a0de4b01c125ba6b61ae   \n",
       "3  0x6a096fc442548dcbbfa3a0de4b01c125ba6b61ae   \n",
       "4  0x6a096fc442548dcbbfa3a0de4b01c125ba6b61ae   \n",
       "5  0x6a096fc442548dcbbfa3a0de4b01c125ba6b61ae   \n",
       "6  0x6a096fc442548dcbbfa3a0de4b01c125ba6b61ae   \n",
       "7  0x6a096fc442548dcbbfa3a0de4b01c125ba6b61ae   \n",
       "8  0x6a096fc442548dcbbfa3a0de4b01c125ba6b61ae   \n",
       "9  0x6a096fc442548dcbbfa3a0de4b01c125ba6b61ae   \n",
       "\n",
       "                                 grantAddress  \\\n",
       "0  0x9DCbA70B2dfe5807e2A847E065EBb666791F8b8A   \n",
       "1  0x3fB0D1e89693b8709de60d835452a4712d1c9B04   \n",
       "2  0xb62E762Af637b49Eb4870BCe8fE21bffF189e495   \n",
       "3  0xfC9265A28f66CF4561D74A4E25D7Bbd3F482B8e6   \n",
       "4  0xe1887fF140BfA9D3b45D0B2077b7471124acD242   \n",
       "5  0xA40ba205ADD80C214eC7A710E790A54D738c4c27   \n",
       "6  0x850a146D7478dAAa98Fc26Fd85e6A24e50846A9d   \n",
       "7  0x9531C059098e3d194fF87FebB587aB07B30B1306   \n",
       "8  0x8615B6Ed9468CbB58CfdF45c120B87E15add787F   \n",
       "9  0x5a5D9aB7b1bD978F80909503EBb828879daCa9C3   \n",
       "\n",
       "                                        token          amount  amountUSD  \\\n",
       "0  0x0000000000000000000000000000000000000000  10000000000000   0.017484   \n",
       "1  0x0000000000000000000000000000000000000000  10000000000000   0.017484   \n",
       "2  0x0000000000000000000000000000000000000000  10000000000000   0.017484   \n",
       "3  0x0000000000000000000000000000000000000000  10000000000000   0.017484   \n",
       "4  0x0000000000000000000000000000000000000000  10000000000000   0.017484   \n",
       "5  0x0000000000000000000000000000000000000000  10000000000000   0.017484   \n",
       "6  0x0000000000000000000000000000000000000000  10000000000000   0.017484   \n",
       "7  0x0000000000000000000000000000000000000000  10000000000000   0.017484   \n",
       "8  0x0000000000000000000000000000000000000000  10000000000000   0.017484   \n",
       "9  0x0000000000000000000000000000000000000000  10000000000000   0.017484   \n",
       "\n",
       "    amountRoundToken                                         project_id  \\\n",
       "0  17487700000000000  0x0ba24d30bb476404f6982bb4868cb351afb593fda0b4...   \n",
       "1  17487700000000000  0xe30120fba15bb05932c69f2518abef5548461ef6d62c...   \n",
       "2  17487700000000000  0x43a09a9e0a2c4c39ca4245a3c11fbd1d7def71275c93...   \n",
       "3  17487700000000000  0x9bc6d951ac597c8938efa6add91295a5ec90bc6c9197...   \n",
       "4  17487700000000000  0x82c03736f3abd9c21b31598ad17cb028b80876716727...   \n",
       "5  17487700000000000  0x5d79092725d85663a135c9841b6c8445f20132ee2595...   \n",
       "6  17487700000000000  0x7504217cb61d4b90163e8fb0f9801f597b6972a43ad7...   \n",
       "7  17487700000000000  0x62974e6c4e31dfdaf58ccabea96cc589c38152acdb12...   \n",
       "8  17487700000000000  0x6f695afd2be3f0eeec75479e770bf31cfc49a112d286...   \n",
       "9  17487700000000000  0x7ac59a9fe364f16fc959499353d66a09aa89a3c8cb05...   \n",
       "\n",
       "                                               title    status  \\\n",
       "0                                         Borderless  APPROVED   \n",
       "1  Gitcoin Awareness and Female Founder Amplifica...  APPROVED   \n",
       "2           ZER8's Gitcoin Citizen Round Application  APPROVED   \n",
       "3                         Jimi Cohen - Gitcoin Radio  APPROVED   \n",
       "4                                   Bankless Academy  APPROVED   \n",
       "5                                        40acres DAO  APPROVED   \n",
       "6                          Zuzalu Gitcoin Hype Squad  APPROVED   \n",
       "7                                Lefteris Karapetsas  APPROVED   \n",
       "8               Gitcoin Onboarding with Regens Unite  APPROVED   \n",
       "9        Carl Cervone - Onchain Impact Evaluatooooor  APPROVED   \n",
       "\n",
       "                                      address  passport_score  \n",
       "0  0x6a096fc442548dcbbfa3a0de4b01c125ba6b61ae           20.95  \n",
       "1  0x6a096fc442548dcbbfa3a0de4b01c125ba6b61ae           20.95  \n",
       "2  0x6a096fc442548dcbbfa3a0de4b01c125ba6b61ae           20.95  \n",
       "3  0x6a096fc442548dcbbfa3a0de4b01c125ba6b61ae           20.95  \n",
       "4  0x6a096fc442548dcbbfa3a0de4b01c125ba6b61ae           20.95  \n",
       "5  0x6a096fc442548dcbbfa3a0de4b01c125ba6b61ae           20.95  \n",
       "6  0x6a096fc442548dcbbfa3a0de4b01c125ba6b61ae           20.95  \n",
       "7  0x6a096fc442548dcbbfa3a0de4b01c125ba6b61ae           20.95  \n",
       "8  0x6a096fc442548dcbbfa3a0de4b01c125ba6b61ae           20.95  \n",
       "9  0x6a096fc442548dcbbfa3a0de4b01c125ba6b61ae           20.95  "
      ]
     },
     "execution_count": 3,
     "metadata": {},
     "output_type": "execute_result"
    }
   ],
   "source": [
    "# merge dfpp with df\n",
    "df['voter'] = df['voter'].str.lower()\n",
    "df = pd.merge(df, dfpp[['address', 'rawScore']], how='left', left_on='voter', right_on='address')\n",
    "df = df.rename(columns={'rawScore': 'passport_score'})\n",
    "df['passport_score'] = df['passport_score'].fillna(0)\n",
    "# convert passport_score to float\n",
    "df['passport_score'] = df['passport_score'].astype(float)\n",
    "df.head(10)"
   ]
  },
  {
   "cell_type": "code",
   "execution_count": null,
   "metadata": {},
   "outputs": [],
   "source": [
    "print(df.columns)"
   ]
  },
  {
   "cell_type": "code",
   "execution_count": 4,
   "metadata": {},
   "outputs": [
    {
     "data": {
      "application/vnd.plotly.v1+json": {
       "config": {
        "plotlyServerURL": "https://plot.ly"
       },
       "data": [
        {
         "alignmentgroup": "True",
         "hovertemplate": "Passport Score=%{x}<br>Number of Unique Voter Addresses=%{y}<extra></extra>",
         "legendgroup": "",
         "marker": {
          "color": "#636efa",
          "pattern": {
           "shape": ""
          }
         },
         "name": "",
         "offsetgroup": "",
         "orientation": "v",
         "showlegend": false,
         "textposition": "auto",
         "type": "bar",
         "x": [
          0,
          1,
          2,
          3,
          4,
          5,
          6,
          7,
          8,
          9,
          10,
          11,
          12,
          13,
          14,
          15,
          16,
          17,
          18,
          19,
          20,
          21,
          22,
          23,
          24,
          25,
          26,
          27,
          28,
          29,
          30,
          31,
          32,
          33,
          34,
          35,
          36,
          37,
          38,
          39,
          40,
          41,
          42,
          43,
          44,
          45,
          46,
          47,
          48,
          49,
          50,
          51,
          52,
          53,
          56,
          59
         ],
         "xaxis": "x",
         "y": [
          5170,
          92,
          85,
          52,
          104,
          47,
          92,
          84,
          126,
          117,
          361,
          309,
          452,
          465,
          610,
          1221,
          1006,
          819,
          496,
          487,
          1160,
          901,
          484,
          389,
          295,
          200,
          188,
          155,
          135,
          91,
          119,
          107,
          78,
          65,
          46,
          82,
          48,
          43,
          45,
          41,
          27,
          34,
          18,
          13,
          17,
          8,
          10,
          5,
          6,
          5,
          4,
          2,
          1,
          2,
          1,
          1
         ],
         "yaxis": "y"
        }
       ],
       "layout": {
        "annotations": [
         {
          "arrowhead": 1,
          "ax": -40,
          "ay": -50,
          "showarrow": true,
          "text": "52.0% of users have a score above 15",
          "x": 15,
          "y": 1221
         }
        ],
        "barmode": "relative",
        "legend": {
         "tracegroupgap": 0
        },
        "template": {
         "data": {
          "bar": [
           {
            "error_x": {
             "color": "#2a3f5f"
            },
            "error_y": {
             "color": "#2a3f5f"
            },
            "marker": {
             "line": {
              "color": "#E5ECF6",
              "width": 0.5
             },
             "pattern": {
              "fillmode": "overlay",
              "size": 10,
              "solidity": 0.2
             }
            },
            "type": "bar"
           }
          ],
          "barpolar": [
           {
            "marker": {
             "line": {
              "color": "#E5ECF6",
              "width": 0.5
             },
             "pattern": {
              "fillmode": "overlay",
              "size": 10,
              "solidity": 0.2
             }
            },
            "type": "barpolar"
           }
          ],
          "carpet": [
           {
            "aaxis": {
             "endlinecolor": "#2a3f5f",
             "gridcolor": "white",
             "linecolor": "white",
             "minorgridcolor": "white",
             "startlinecolor": "#2a3f5f"
            },
            "baxis": {
             "endlinecolor": "#2a3f5f",
             "gridcolor": "white",
             "linecolor": "white",
             "minorgridcolor": "white",
             "startlinecolor": "#2a3f5f"
            },
            "type": "carpet"
           }
          ],
          "choropleth": [
           {
            "colorbar": {
             "outlinewidth": 0,
             "ticks": ""
            },
            "type": "choropleth"
           }
          ],
          "contour": [
           {
            "colorbar": {
             "outlinewidth": 0,
             "ticks": ""
            },
            "colorscale": [
             [
              0,
              "#0d0887"
             ],
             [
              0.1111111111111111,
              "#46039f"
             ],
             [
              0.2222222222222222,
              "#7201a8"
             ],
             [
              0.3333333333333333,
              "#9c179e"
             ],
             [
              0.4444444444444444,
              "#bd3786"
             ],
             [
              0.5555555555555556,
              "#d8576b"
             ],
             [
              0.6666666666666666,
              "#ed7953"
             ],
             [
              0.7777777777777778,
              "#fb9f3a"
             ],
             [
              0.8888888888888888,
              "#fdca26"
             ],
             [
              1,
              "#f0f921"
             ]
            ],
            "type": "contour"
           }
          ],
          "contourcarpet": [
           {
            "colorbar": {
             "outlinewidth": 0,
             "ticks": ""
            },
            "type": "contourcarpet"
           }
          ],
          "heatmap": [
           {
            "colorbar": {
             "outlinewidth": 0,
             "ticks": ""
            },
            "colorscale": [
             [
              0,
              "#0d0887"
             ],
             [
              0.1111111111111111,
              "#46039f"
             ],
             [
              0.2222222222222222,
              "#7201a8"
             ],
             [
              0.3333333333333333,
              "#9c179e"
             ],
             [
              0.4444444444444444,
              "#bd3786"
             ],
             [
              0.5555555555555556,
              "#d8576b"
             ],
             [
              0.6666666666666666,
              "#ed7953"
             ],
             [
              0.7777777777777778,
              "#fb9f3a"
             ],
             [
              0.8888888888888888,
              "#fdca26"
             ],
             [
              1,
              "#f0f921"
             ]
            ],
            "type": "heatmap"
           }
          ],
          "heatmapgl": [
           {
            "colorbar": {
             "outlinewidth": 0,
             "ticks": ""
            },
            "colorscale": [
             [
              0,
              "#0d0887"
             ],
             [
              0.1111111111111111,
              "#46039f"
             ],
             [
              0.2222222222222222,
              "#7201a8"
             ],
             [
              0.3333333333333333,
              "#9c179e"
             ],
             [
              0.4444444444444444,
              "#bd3786"
             ],
             [
              0.5555555555555556,
              "#d8576b"
             ],
             [
              0.6666666666666666,
              "#ed7953"
             ],
             [
              0.7777777777777778,
              "#fb9f3a"
             ],
             [
              0.8888888888888888,
              "#fdca26"
             ],
             [
              1,
              "#f0f921"
             ]
            ],
            "type": "heatmapgl"
           }
          ],
          "histogram": [
           {
            "marker": {
             "pattern": {
              "fillmode": "overlay",
              "size": 10,
              "solidity": 0.2
             }
            },
            "type": "histogram"
           }
          ],
          "histogram2d": [
           {
            "colorbar": {
             "outlinewidth": 0,
             "ticks": ""
            },
            "colorscale": [
             [
              0,
              "#0d0887"
             ],
             [
              0.1111111111111111,
              "#46039f"
             ],
             [
              0.2222222222222222,
              "#7201a8"
             ],
             [
              0.3333333333333333,
              "#9c179e"
             ],
             [
              0.4444444444444444,
              "#bd3786"
             ],
             [
              0.5555555555555556,
              "#d8576b"
             ],
             [
              0.6666666666666666,
              "#ed7953"
             ],
             [
              0.7777777777777778,
              "#fb9f3a"
             ],
             [
              0.8888888888888888,
              "#fdca26"
             ],
             [
              1,
              "#f0f921"
             ]
            ],
            "type": "histogram2d"
           }
          ],
          "histogram2dcontour": [
           {
            "colorbar": {
             "outlinewidth": 0,
             "ticks": ""
            },
            "colorscale": [
             [
              0,
              "#0d0887"
             ],
             [
              0.1111111111111111,
              "#46039f"
             ],
             [
              0.2222222222222222,
              "#7201a8"
             ],
             [
              0.3333333333333333,
              "#9c179e"
             ],
             [
              0.4444444444444444,
              "#bd3786"
             ],
             [
              0.5555555555555556,
              "#d8576b"
             ],
             [
              0.6666666666666666,
              "#ed7953"
             ],
             [
              0.7777777777777778,
              "#fb9f3a"
             ],
             [
              0.8888888888888888,
              "#fdca26"
             ],
             [
              1,
              "#f0f921"
             ]
            ],
            "type": "histogram2dcontour"
           }
          ],
          "mesh3d": [
           {
            "colorbar": {
             "outlinewidth": 0,
             "ticks": ""
            },
            "type": "mesh3d"
           }
          ],
          "parcoords": [
           {
            "line": {
             "colorbar": {
              "outlinewidth": 0,
              "ticks": ""
             }
            },
            "type": "parcoords"
           }
          ],
          "pie": [
           {
            "automargin": true,
            "type": "pie"
           }
          ],
          "scatter": [
           {
            "fillpattern": {
             "fillmode": "overlay",
             "size": 10,
             "solidity": 0.2
            },
            "type": "scatter"
           }
          ],
          "scatter3d": [
           {
            "line": {
             "colorbar": {
              "outlinewidth": 0,
              "ticks": ""
             }
            },
            "marker": {
             "colorbar": {
              "outlinewidth": 0,
              "ticks": ""
             }
            },
            "type": "scatter3d"
           }
          ],
          "scattercarpet": [
           {
            "marker": {
             "colorbar": {
              "outlinewidth": 0,
              "ticks": ""
             }
            },
            "type": "scattercarpet"
           }
          ],
          "scattergeo": [
           {
            "marker": {
             "colorbar": {
              "outlinewidth": 0,
              "ticks": ""
             }
            },
            "type": "scattergeo"
           }
          ],
          "scattergl": [
           {
            "marker": {
             "colorbar": {
              "outlinewidth": 0,
              "ticks": ""
             }
            },
            "type": "scattergl"
           }
          ],
          "scattermapbox": [
           {
            "marker": {
             "colorbar": {
              "outlinewidth": 0,
              "ticks": ""
             }
            },
            "type": "scattermapbox"
           }
          ],
          "scatterpolar": [
           {
            "marker": {
             "colorbar": {
              "outlinewidth": 0,
              "ticks": ""
             }
            },
            "type": "scatterpolar"
           }
          ],
          "scatterpolargl": [
           {
            "marker": {
             "colorbar": {
              "outlinewidth": 0,
              "ticks": ""
             }
            },
            "type": "scatterpolargl"
           }
          ],
          "scatterternary": [
           {
            "marker": {
             "colorbar": {
              "outlinewidth": 0,
              "ticks": ""
             }
            },
            "type": "scatterternary"
           }
          ],
          "surface": [
           {
            "colorbar": {
             "outlinewidth": 0,
             "ticks": ""
            },
            "colorscale": [
             [
              0,
              "#0d0887"
             ],
             [
              0.1111111111111111,
              "#46039f"
             ],
             [
              0.2222222222222222,
              "#7201a8"
             ],
             [
              0.3333333333333333,
              "#9c179e"
             ],
             [
              0.4444444444444444,
              "#bd3786"
             ],
             [
              0.5555555555555556,
              "#d8576b"
             ],
             [
              0.6666666666666666,
              "#ed7953"
             ],
             [
              0.7777777777777778,
              "#fb9f3a"
             ],
             [
              0.8888888888888888,
              "#fdca26"
             ],
             [
              1,
              "#f0f921"
             ]
            ],
            "type": "surface"
           }
          ],
          "table": [
           {
            "cells": {
             "fill": {
              "color": "#EBF0F8"
             },
             "line": {
              "color": "white"
             }
            },
            "header": {
             "fill": {
              "color": "#C8D4E3"
             },
             "line": {
              "color": "white"
             }
            },
            "type": "table"
           }
          ]
         },
         "layout": {
          "annotationdefaults": {
           "arrowcolor": "#2a3f5f",
           "arrowhead": 0,
           "arrowwidth": 1
          },
          "autotypenumbers": "strict",
          "coloraxis": {
           "colorbar": {
            "outlinewidth": 0,
            "ticks": ""
           }
          },
          "colorscale": {
           "diverging": [
            [
             0,
             "#8e0152"
            ],
            [
             0.1,
             "#c51b7d"
            ],
            [
             0.2,
             "#de77ae"
            ],
            [
             0.3,
             "#f1b6da"
            ],
            [
             0.4,
             "#fde0ef"
            ],
            [
             0.5,
             "#f7f7f7"
            ],
            [
             0.6,
             "#e6f5d0"
            ],
            [
             0.7,
             "#b8e186"
            ],
            [
             0.8,
             "#7fbc41"
            ],
            [
             0.9,
             "#4d9221"
            ],
            [
             1,
             "#276419"
            ]
           ],
           "sequential": [
            [
             0,
             "#0d0887"
            ],
            [
             0.1111111111111111,
             "#46039f"
            ],
            [
             0.2222222222222222,
             "#7201a8"
            ],
            [
             0.3333333333333333,
             "#9c179e"
            ],
            [
             0.4444444444444444,
             "#bd3786"
            ],
            [
             0.5555555555555556,
             "#d8576b"
            ],
            [
             0.6666666666666666,
             "#ed7953"
            ],
            [
             0.7777777777777778,
             "#fb9f3a"
            ],
            [
             0.8888888888888888,
             "#fdca26"
            ],
            [
             1,
             "#f0f921"
            ]
           ],
           "sequentialminus": [
            [
             0,
             "#0d0887"
            ],
            [
             0.1111111111111111,
             "#46039f"
            ],
            [
             0.2222222222222222,
             "#7201a8"
            ],
            [
             0.3333333333333333,
             "#9c179e"
            ],
            [
             0.4444444444444444,
             "#bd3786"
            ],
            [
             0.5555555555555556,
             "#d8576b"
            ],
            [
             0.6666666666666666,
             "#ed7953"
            ],
            [
             0.7777777777777778,
             "#fb9f3a"
            ],
            [
             0.8888888888888888,
             "#fdca26"
            ],
            [
             1,
             "#f0f921"
            ]
           ]
          },
          "colorway": [
           "#636efa",
           "#EF553B",
           "#00cc96",
           "#ab63fa",
           "#FFA15A",
           "#19d3f3",
           "#FF6692",
           "#B6E880",
           "#FF97FF",
           "#FECB52"
          ],
          "font": {
           "color": "#2a3f5f"
          },
          "geo": {
           "bgcolor": "white",
           "lakecolor": "white",
           "landcolor": "#E5ECF6",
           "showlakes": true,
           "showland": true,
           "subunitcolor": "white"
          },
          "hoverlabel": {
           "align": "left"
          },
          "hovermode": "closest",
          "mapbox": {
           "style": "light"
          },
          "paper_bgcolor": "white",
          "plot_bgcolor": "#E5ECF6",
          "polar": {
           "angularaxis": {
            "gridcolor": "white",
            "linecolor": "white",
            "ticks": ""
           },
           "bgcolor": "#E5ECF6",
           "radialaxis": {
            "gridcolor": "white",
            "linecolor": "white",
            "ticks": ""
           }
          },
          "scene": {
           "xaxis": {
            "backgroundcolor": "#E5ECF6",
            "gridcolor": "white",
            "gridwidth": 2,
            "linecolor": "white",
            "showbackground": true,
            "ticks": "",
            "zerolinecolor": "white"
           },
           "yaxis": {
            "backgroundcolor": "#E5ECF6",
            "gridcolor": "white",
            "gridwidth": 2,
            "linecolor": "white",
            "showbackground": true,
            "ticks": "",
            "zerolinecolor": "white"
           },
           "zaxis": {
            "backgroundcolor": "#E5ECF6",
            "gridcolor": "white",
            "gridwidth": 2,
            "linecolor": "white",
            "showbackground": true,
            "ticks": "",
            "zerolinecolor": "white"
           }
          },
          "shapedefaults": {
           "line": {
            "color": "#2a3f5f"
           }
          },
          "ternary": {
           "aaxis": {
            "gridcolor": "white",
            "linecolor": "white",
            "ticks": ""
           },
           "baxis": {
            "gridcolor": "white",
            "linecolor": "white",
            "ticks": ""
           },
           "bgcolor": "#E5ECF6",
           "caxis": {
            "gridcolor": "white",
            "linecolor": "white",
            "ticks": ""
           }
          },
          "title": {
           "x": 0.05
          },
          "xaxis": {
           "automargin": true,
           "gridcolor": "white",
           "linecolor": "white",
           "ticks": "",
           "title": {
            "standoff": 15
           },
           "zerolinecolor": "white",
           "zerolinewidth": 2
          },
          "yaxis": {
           "automargin": true,
           "gridcolor": "white",
           "linecolor": "white",
           "ticks": "",
           "title": {
            "standoff": 15
           },
           "zerolinecolor": "white",
           "zerolinewidth": 2
          }
         }
        },
        "title": {
         "text": "Histogram of Passport Score by Number of Unique Voter Addresses"
        },
        "xaxis": {
         "anchor": "y",
         "domain": [
          0,
          1
         ],
         "title": {
          "text": "Passport Score"
         }
        },
        "yaxis": {
         "anchor": "x",
         "domain": [
          0,
          1
         ],
         "title": {
          "text": "Number of Unique Voter Addresses"
         }
        }
       }
      }
     },
     "metadata": {},
     "output_type": "display_data"
    }
   ],
   "source": [
    "# Calculate the number of unique voter addresses for each floor of raw score\n",
    "\n",
    "df['floor_passport_score'] = df['passport_score'].apply(np.floor)\n",
    "unique_voters = df.groupby('floor_passport_score')['voter'].nunique().reset_index()\n",
    "\n",
    "# Create a histogram\n",
    "fig1 = px.bar(unique_voters, x='floor_passport_score', y='voter', labels={'floor_passport_score': 'Passport Score', 'voter': 'Number of Unique Voter Addresses'}, title='Histogram of Passport Score by Number of Unique Voter Addresses')\n",
    "\n",
    "# Calculate the percentage of users with a score above 15 and round it to one decimal place\n",
    "percentage_above_15 = round((df[df['floor_passport_score'] >= 15]['voter'].nunique() / df['voter'].nunique()) * 100, 1)\n",
    "\n",
    "# Add an annotation with the rounded percentage\n",
    "fig1.add_annotation(\n",
    "    x=15,\n",
    "    y=unique_voters[unique_voters['floor_passport_score'] == 15]['voter'].values[0],\n",
    "    text=f\"{percentage_above_15}% of users have a score above 15\",\n",
    "    showarrow=True,\n",
    "    arrowhead=1,\n",
    "    ax=-40,\n",
    "    ay=-50\n",
    ")\n",
    "\n",
    "# Display the histogram\n",
    "fig1.show()"
   ]
  },
  {
   "cell_type": "code",
   "execution_count": 5,
   "metadata": {},
   "outputs": [
    {
     "name": "stdout",
     "output_type": "stream",
     "text": [
      "(57366, 36)\n"
     ]
    },
    {
     "data": {
      "text/html": [
       "<div>\n",
       "<style scoped>\n",
       "    .dataframe tbody tr th:only-of-type {\n",
       "        vertical-align: middle;\n",
       "    }\n",
       "\n",
       "    .dataframe tbody tr th {\n",
       "        vertical-align: top;\n",
       "    }\n",
       "\n",
       "    .dataframe thead th {\n",
       "        text-align: right;\n",
       "    }\n",
       "</style>\n",
       "<table border=\"1\" class=\"dataframe\">\n",
       "  <thead>\n",
       "    <tr style=\"text-align: right;\">\n",
       "      <th></th>\n",
       "      <th>block_timestamp</th>\n",
       "      <th>tx_hash</th>\n",
       "      <th>voter</th>\n",
       "      <th>project</th>\n",
       "      <th>amount_usd</th>\n",
       "      <th>__row_index</th>\n",
       "      <th>seed_same_naive</th>\n",
       "      <th>seed_same</th>\n",
       "      <th>seed_suspicious</th>\n",
       "      <th>less_5_tx</th>\n",
       "      <th>...</th>\n",
       "      <th>has_interaction_airdrop_m</th>\n",
       "      <th>has_interaction_tornado</th>\n",
       "      <th>has_interaction_disperse</th>\n",
       "      <th>flagged</th>\n",
       "      <th>stakeridoo_detected</th>\n",
       "      <th>doge_detected</th>\n",
       "      <th>odc_detected</th>\n",
       "      <th>has_seed_cluster</th>\n",
       "      <th>cluster_number</th>\n",
       "      <th>really_suspicicious_cluster</th>\n",
       "    </tr>\n",
       "  </thead>\n",
       "  <tbody>\n",
       "    <tr>\n",
       "      <th>0</th>\n",
       "      <td>2023-06-27T19:28:25.000Z</td>\n",
       "      <td>0x11d201542132d813e3508936fc00e0a85a33e592bf4c...</td>\n",
       "      <td>0xff4997c57ca17ac3a481a7b88987e2341cdde61f</td>\n",
       "      <td>0xc98786d5a7a03c1e74affcb97ff7ef8a710da09b</td>\n",
       "      <td>0.996235</td>\n",
       "      <td>0</td>\n",
       "      <td>False</td>\n",
       "      <td>False</td>\n",
       "      <td>False</td>\n",
       "      <td>False</td>\n",
       "      <td>...</td>\n",
       "      <td>False</td>\n",
       "      <td>False</td>\n",
       "      <td>False</td>\n",
       "      <td>False</td>\n",
       "      <td>False</td>\n",
       "      <td>False</td>\n",
       "      <td>False</td>\n",
       "      <td>False</td>\n",
       "      <td>NaN</td>\n",
       "      <td>False</td>\n",
       "    </tr>\n",
       "    <tr>\n",
       "      <th>1</th>\n",
       "      <td>2023-06-26T23:41:01.000Z</td>\n",
       "      <td>0xcf39b3b5ad8be6aa97ba3f4407d5bdaeb5e38b3a4a1b...</td>\n",
       "      <td>0xc0e2412f1a3cfdbf638c55aebdebb58c9ae90a6a</td>\n",
       "      <td>0x745ce2af76e9a6eba65cc0cacaa9ea109bb7fabd</td>\n",
       "      <td>1.874705</td>\n",
       "      <td>1</td>\n",
       "      <td>False</td>\n",
       "      <td>True</td>\n",
       "      <td>True</td>\n",
       "      <td>False</td>\n",
       "      <td>...</td>\n",
       "      <td>False</td>\n",
       "      <td>False</td>\n",
       "      <td>False</td>\n",
       "      <td>False</td>\n",
       "      <td>False</td>\n",
       "      <td>False</td>\n",
       "      <td>False</td>\n",
       "      <td>False</td>\n",
       "      <td>NaN</td>\n",
       "      <td>False</td>\n",
       "    </tr>\n",
       "    <tr>\n",
       "      <th>2</th>\n",
       "      <td>2023-06-26T23:41:01.000Z</td>\n",
       "      <td>0xcf39b3b5ad8be6aa97ba3f4407d5bdaeb5e38b3a4a1b...</td>\n",
       "      <td>0xc0e2412f1a3cfdbf638c55aebdebb58c9ae90a6a</td>\n",
       "      <td>0xb62e762af637b49eb4870bce8fe21bfff189e495</td>\n",
       "      <td>1.874705</td>\n",
       "      <td>2</td>\n",
       "      <td>False</td>\n",
       "      <td>True</td>\n",
       "      <td>True</td>\n",
       "      <td>False</td>\n",
       "      <td>...</td>\n",
       "      <td>False</td>\n",
       "      <td>False</td>\n",
       "      <td>False</td>\n",
       "      <td>False</td>\n",
       "      <td>False</td>\n",
       "      <td>False</td>\n",
       "      <td>False</td>\n",
       "      <td>False</td>\n",
       "      <td>NaN</td>\n",
       "      <td>False</td>\n",
       "    </tr>\n",
       "    <tr>\n",
       "      <th>3</th>\n",
       "      <td>2023-06-26T23:50:05.000Z</td>\n",
       "      <td>0x69ec33f4e966af68d5cc0f29e5f58683a6367e91c03c...</td>\n",
       "      <td>0xabac490b9a2116d11c65edeb56af9a2c09e3ea56</td>\n",
       "      <td>0x8cfb71682feb93317d1eb4e0b3ca7fa9044169cf</td>\n",
       "      <td>1.124823</td>\n",
       "      <td>3</td>\n",
       "      <td>False</td>\n",
       "      <td>False</td>\n",
       "      <td>False</td>\n",
       "      <td>False</td>\n",
       "      <td>...</td>\n",
       "      <td>False</td>\n",
       "      <td>False</td>\n",
       "      <td>False</td>\n",
       "      <td>False</td>\n",
       "      <td>False</td>\n",
       "      <td>False</td>\n",
       "      <td>False</td>\n",
       "      <td>False</td>\n",
       "      <td>NaN</td>\n",
       "      <td>False</td>\n",
       "    </tr>\n",
       "    <tr>\n",
       "      <th>4</th>\n",
       "      <td>2023-06-26T23:36:07.000Z</td>\n",
       "      <td>0x849e0dd7c525ccb7a9b024b1e215464f39592fc054e3...</td>\n",
       "      <td>0xb36a9bb1bbc5262742d7b43d5f7284757de4637d</td>\n",
       "      <td>0x13257e783dc8ded7e227a28edb0428c42d31202e</td>\n",
       "      <td>1.031088</td>\n",
       "      <td>4</td>\n",
       "      <td>False</td>\n",
       "      <td>True</td>\n",
       "      <td>True</td>\n",
       "      <td>False</td>\n",
       "      <td>...</td>\n",
       "      <td>False</td>\n",
       "      <td>False</td>\n",
       "      <td>False</td>\n",
       "      <td>False</td>\n",
       "      <td>False</td>\n",
       "      <td>False</td>\n",
       "      <td>False</td>\n",
       "      <td>False</td>\n",
       "      <td>NaN</td>\n",
       "      <td>False</td>\n",
       "    </tr>\n",
       "    <tr>\n",
       "      <th>5</th>\n",
       "      <td>2023-06-26T23:55:27.000Z</td>\n",
       "      <td>0xfc1f7406608040b773a553dafd1ebf57279aa6a68892...</td>\n",
       "      <td>0x7f9a0df54ccf45546ddc170171f9580419ceb133</td>\n",
       "      <td>0xeb0cf83c80e4b4cd82196dac94e2c579672b6b1c</td>\n",
       "      <td>1.087329</td>\n",
       "      <td>5</td>\n",
       "      <td>False</td>\n",
       "      <td>True</td>\n",
       "      <td>True</td>\n",
       "      <td>False</td>\n",
       "      <td>...</td>\n",
       "      <td>False</td>\n",
       "      <td>False</td>\n",
       "      <td>False</td>\n",
       "      <td>False</td>\n",
       "      <td>False</td>\n",
       "      <td>False</td>\n",
       "      <td>False</td>\n",
       "      <td>False</td>\n",
       "      <td>NaN</td>\n",
       "      <td>False</td>\n",
       "    </tr>\n",
       "    <tr>\n",
       "      <th>6</th>\n",
       "      <td>2023-06-27T00:39:39.000Z</td>\n",
       "      <td>0x0b1d748a53d2c672afd5232ee088465082677adff673...</td>\n",
       "      <td>0xe1bfa9933cc2b55e3cddefab7b0f61d864d5162a</td>\n",
       "      <td>0x7904667c340601aab73939372c016dc5102732a2</td>\n",
       "      <td>1.015032</td>\n",
       "      <td>6</td>\n",
       "      <td>True</td>\n",
       "      <td>True</td>\n",
       "      <td>False</td>\n",
       "      <td>False</td>\n",
       "      <td>...</td>\n",
       "      <td>False</td>\n",
       "      <td>False</td>\n",
       "      <td>False</td>\n",
       "      <td>False</td>\n",
       "      <td>False</td>\n",
       "      <td>False</td>\n",
       "      <td>False</td>\n",
       "      <td>False</td>\n",
       "      <td>NaN</td>\n",
       "      <td>False</td>\n",
       "    </tr>\n",
       "    <tr>\n",
       "      <th>7</th>\n",
       "      <td>2023-06-27T00:17:15.000Z</td>\n",
       "      <td>0x70d2fc2970ff8a7d216ec4438138620754abdb974002...</td>\n",
       "      <td>0xdee2528b0612f91559abb862cbfb4741d9de2e10</td>\n",
       "      <td>0x521aacb43d89e1b8ffd64d9ef76b0a1074dedaf8</td>\n",
       "      <td>1.127814</td>\n",
       "      <td>7</td>\n",
       "      <td>False</td>\n",
       "      <td>False</td>\n",
       "      <td>False</td>\n",
       "      <td>False</td>\n",
       "      <td>...</td>\n",
       "      <td>False</td>\n",
       "      <td>False</td>\n",
       "      <td>False</td>\n",
       "      <td>False</td>\n",
       "      <td>False</td>\n",
       "      <td>False</td>\n",
       "      <td>False</td>\n",
       "      <td>False</td>\n",
       "      <td>NaN</td>\n",
       "      <td>False</td>\n",
       "    </tr>\n",
       "    <tr>\n",
       "      <th>8</th>\n",
       "      <td>2023-06-27T00:17:15.000Z</td>\n",
       "      <td>0x70d2fc2970ff8a7d216ec4438138620754abdb974002...</td>\n",
       "      <td>0xdee2528b0612f91559abb862cbfb4741d9de2e10</td>\n",
       "      <td>0xeb0cf83c80e4b4cd82196dac94e2c579672b6b1c</td>\n",
       "      <td>1.127814</td>\n",
       "      <td>8</td>\n",
       "      <td>False</td>\n",
       "      <td>False</td>\n",
       "      <td>False</td>\n",
       "      <td>False</td>\n",
       "      <td>...</td>\n",
       "      <td>False</td>\n",
       "      <td>False</td>\n",
       "      <td>False</td>\n",
       "      <td>False</td>\n",
       "      <td>False</td>\n",
       "      <td>False</td>\n",
       "      <td>False</td>\n",
       "      <td>False</td>\n",
       "      <td>NaN</td>\n",
       "      <td>False</td>\n",
       "    </tr>\n",
       "    <tr>\n",
       "      <th>9</th>\n",
       "      <td>2023-06-27T00:17:15.000Z</td>\n",
       "      <td>0x70d2fc2970ff8a7d216ec4438138620754abdb974002...</td>\n",
       "      <td>0xdee2528b0612f91559abb862cbfb4741d9de2e10</td>\n",
       "      <td>0x298f7f66ba43f0efecf4bc324b0016f822c783a4</td>\n",
       "      <td>1.127814</td>\n",
       "      <td>9</td>\n",
       "      <td>False</td>\n",
       "      <td>False</td>\n",
       "      <td>False</td>\n",
       "      <td>False</td>\n",
       "      <td>...</td>\n",
       "      <td>False</td>\n",
       "      <td>False</td>\n",
       "      <td>False</td>\n",
       "      <td>False</td>\n",
       "      <td>False</td>\n",
       "      <td>False</td>\n",
       "      <td>False</td>\n",
       "      <td>False</td>\n",
       "      <td>NaN</td>\n",
       "      <td>False</td>\n",
       "    </tr>\n",
       "  </tbody>\n",
       "</table>\n",
       "<p>10 rows × 36 columns</p>\n",
       "</div>"
      ],
      "text/plain": [
       "            block_timestamp  \\\n",
       "0  2023-06-27T19:28:25.000Z   \n",
       "1  2023-06-26T23:41:01.000Z   \n",
       "2  2023-06-26T23:41:01.000Z   \n",
       "3  2023-06-26T23:50:05.000Z   \n",
       "4  2023-06-26T23:36:07.000Z   \n",
       "5  2023-06-26T23:55:27.000Z   \n",
       "6  2023-06-27T00:39:39.000Z   \n",
       "7  2023-06-27T00:17:15.000Z   \n",
       "8  2023-06-27T00:17:15.000Z   \n",
       "9  2023-06-27T00:17:15.000Z   \n",
       "\n",
       "                                             tx_hash  \\\n",
       "0  0x11d201542132d813e3508936fc00e0a85a33e592bf4c...   \n",
       "1  0xcf39b3b5ad8be6aa97ba3f4407d5bdaeb5e38b3a4a1b...   \n",
       "2  0xcf39b3b5ad8be6aa97ba3f4407d5bdaeb5e38b3a4a1b...   \n",
       "3  0x69ec33f4e966af68d5cc0f29e5f58683a6367e91c03c...   \n",
       "4  0x849e0dd7c525ccb7a9b024b1e215464f39592fc054e3...   \n",
       "5  0xfc1f7406608040b773a553dafd1ebf57279aa6a68892...   \n",
       "6  0x0b1d748a53d2c672afd5232ee088465082677adff673...   \n",
       "7  0x70d2fc2970ff8a7d216ec4438138620754abdb974002...   \n",
       "8  0x70d2fc2970ff8a7d216ec4438138620754abdb974002...   \n",
       "9  0x70d2fc2970ff8a7d216ec4438138620754abdb974002...   \n",
       "\n",
       "                                        voter  \\\n",
       "0  0xff4997c57ca17ac3a481a7b88987e2341cdde61f   \n",
       "1  0xc0e2412f1a3cfdbf638c55aebdebb58c9ae90a6a   \n",
       "2  0xc0e2412f1a3cfdbf638c55aebdebb58c9ae90a6a   \n",
       "3  0xabac490b9a2116d11c65edeb56af9a2c09e3ea56   \n",
       "4  0xb36a9bb1bbc5262742d7b43d5f7284757de4637d   \n",
       "5  0x7f9a0df54ccf45546ddc170171f9580419ceb133   \n",
       "6  0xe1bfa9933cc2b55e3cddefab7b0f61d864d5162a   \n",
       "7  0xdee2528b0612f91559abb862cbfb4741d9de2e10   \n",
       "8  0xdee2528b0612f91559abb862cbfb4741d9de2e10   \n",
       "9  0xdee2528b0612f91559abb862cbfb4741d9de2e10   \n",
       "\n",
       "                                      project  amount_usd  __row_index  \\\n",
       "0  0xc98786d5a7a03c1e74affcb97ff7ef8a710da09b    0.996235            0   \n",
       "1  0x745ce2af76e9a6eba65cc0cacaa9ea109bb7fabd    1.874705            1   \n",
       "2  0xb62e762af637b49eb4870bce8fe21bfff189e495    1.874705            2   \n",
       "3  0x8cfb71682feb93317d1eb4e0b3ca7fa9044169cf    1.124823            3   \n",
       "4  0x13257e783dc8ded7e227a28edb0428c42d31202e    1.031088            4   \n",
       "5  0xeb0cf83c80e4b4cd82196dac94e2c579672b6b1c    1.087329            5   \n",
       "6  0x7904667c340601aab73939372c016dc5102732a2    1.015032            6   \n",
       "7  0x521aacb43d89e1b8ffd64d9ef76b0a1074dedaf8    1.127814            7   \n",
       "8  0xeb0cf83c80e4b4cd82196dac94e2c579672b6b1c    1.127814            8   \n",
       "9  0x298f7f66ba43f0efecf4bc324b0016f822c783a4    1.127814            9   \n",
       "\n",
       "   seed_same_naive  seed_same  seed_suspicious  less_5_tx  ...  \\\n",
       "0            False      False            False      False  ...   \n",
       "1            False       True             True      False  ...   \n",
       "2            False       True             True      False  ...   \n",
       "3            False      False            False      False  ...   \n",
       "4            False       True             True      False  ...   \n",
       "5            False       True             True      False  ...   \n",
       "6             True       True            False      False  ...   \n",
       "7            False      False            False      False  ...   \n",
       "8            False      False            False      False  ...   \n",
       "9            False      False            False      False  ...   \n",
       "\n",
       "   has_interaction_airdrop_m  has_interaction_tornado  \\\n",
       "0                      False                    False   \n",
       "1                      False                    False   \n",
       "2                      False                    False   \n",
       "3                      False                    False   \n",
       "4                      False                    False   \n",
       "5                      False                    False   \n",
       "6                      False                    False   \n",
       "7                      False                    False   \n",
       "8                      False                    False   \n",
       "9                      False                    False   \n",
       "\n",
       "   has_interaction_disperse  flagged  stakeridoo_detected  doge_detected  \\\n",
       "0                     False    False                False          False   \n",
       "1                     False    False                False          False   \n",
       "2                     False    False                False          False   \n",
       "3                     False    False                False          False   \n",
       "4                     False    False                False          False   \n",
       "5                     False    False                False          False   \n",
       "6                     False    False                False          False   \n",
       "7                     False    False                False          False   \n",
       "8                     False    False                False          False   \n",
       "9                     False    False                False          False   \n",
       "\n",
       "   odc_detected  has_seed_cluster  cluster_number  really_suspicicious_cluster  \n",
       "0         False             False             NaN                        False  \n",
       "1         False             False             NaN                        False  \n",
       "2         False             False             NaN                        False  \n",
       "3         False             False             NaN                        False  \n",
       "4         False             False             NaN                        False  \n",
       "5         False             False             NaN                        False  \n",
       "6         False             False             NaN                        False  \n",
       "7         False             False             NaN                        False  \n",
       "8         False             False             NaN                        False  \n",
       "9         False             False             NaN                        False  \n",
       "\n",
       "[10 rows x 36 columns]"
      ]
     },
     "execution_count": 5,
     "metadata": {},
     "output_type": "execute_result"
    }
   ],
   "source": [
    "dff = pd.read_csv('features_citizens.csv')\n",
    "print(dff.shape)\n",
    "dff.head(10)"
   ]
  },
  {
   "cell_type": "code",
   "execution_count": 6,
   "metadata": {},
   "outputs": [
    {
     "name": "stdout",
     "output_type": "stream",
     "text": [
      "(576846, 38)\n"
     ]
    }
   ],
   "source": [
    "# join df and dff on tx_hash and transaction\n",
    "dfm = pd.merge(dff, df[['voter', 'passport_score','floor_passport_score']], how='left', left_on='voter', right_on='voter')\n",
    "print(dfm.shape)"
   ]
  },
  {
   "cell_type": "code",
   "execution_count": null,
   "metadata": {},
   "outputs": [],
   "source": [
    "dfm.head(10)"
   ]
  },
  {
   "cell_type": "code",
   "execution_count": 7,
   "metadata": {},
   "outputs": [],
   "source": [
    "# Calculate pass rates\n",
    "def calculate_pass_rates(df):\n",
    "    negative_indicators = ['has_lcs', 'has_interaction_toxic', 'has_interaction_disperse', 'is_airdrop_master', 'has_interaction_airdrop_m', 'interact_less_5tx', 'flagged', 'stakeridoo_detected', 'doge_detected', 'odc_detected', 'really_suspicicious_cluster']\n",
    "    positive_indicators = []\n",
    "\n",
    "    pass_rates = pd.DataFrame()\n",
    "\n",
    "    # Calculate pass rates for negative indicators\n",
    "    for indicator in negative_indicators:\n",
    "        pass_rate = 1 - df.groupby(['voter', 'floor_passport_score'])[indicator].mean().groupby('floor_passport_score').mean()\n",
    "        pass_rates = pd.concat([pass_rates, pass_rate.rename(indicator)], axis=1)\n",
    "\n",
    "    # Calculate pass rates for positive indicators\n",
    "    for indicator in positive_indicators:\n",
    "        pass_rate = df.groupby(['voter', 'floor_passport_score'])[indicator].mean().groupby('floor_passport_score').mean()\n",
    "        pass_rates = pd.concat([pass_rates, pass_rate.rename(indicator)], axis=1)\n",
    "\n",
    "    return pass_rates.rename_axis('floor_passport_score').reset_index()"
   ]
  },
  {
   "cell_type": "code",
   "execution_count": 8,
   "metadata": {},
   "outputs": [],
   "source": [
    "df_pass_rates = calculate_pass_rates(dfm)"
   ]
  },
  {
   "cell_type": "code",
   "execution_count": null,
   "metadata": {},
   "outputs": [],
   "source": [
    "df_pass_rates.head(10)\n"
   ]
  },
  {
   "cell_type": "code",
   "execution_count": 9,
   "metadata": {},
   "outputs": [
    {
     "data": {
      "application/vnd.plotly.v1+json": {
       "config": {
        "plotlyServerURL": "https://plot.ly"
       },
       "data": [
        {
         "customdata": [
          [
           5170
          ],
          [
           92
          ],
          [
           85
          ],
          [
           52
          ],
          [
           104
          ],
          [
           47
          ],
          [
           92
          ],
          [
           84
          ],
          [
           126
          ],
          [
           117
          ],
          [
           361
          ],
          [
           309
          ],
          [
           452
          ],
          [
           465
          ],
          [
           610
          ],
          [
           1221
          ],
          [
           1006
          ],
          [
           819
          ],
          [
           496
          ],
          [
           487
          ],
          [
           1160
          ],
          [
           901
          ],
          [
           484
          ],
          [
           389
          ],
          [
           295
          ],
          [
           200
          ],
          [
           188
          ],
          [
           155
          ],
          [
           135
          ],
          [
           91
          ],
          [
           119
          ],
          [
           107
          ],
          [
           78
          ],
          [
           65
          ],
          [
           46
          ],
          [
           82
          ],
          [
           48
          ],
          [
           43
          ],
          [
           45
          ],
          [
           41
          ],
          [
           27
          ],
          [
           34
          ],
          [
           18
          ],
          [
           13
          ],
          [
           17
          ],
          [
           8
          ],
          [
           10
          ],
          [
           5
          ],
          [
           6
          ],
          [
           5
          ],
          [
           4
          ],
          [
           2
          ],
          [
           1
          ],
          [
           2
          ],
          [
           1
          ],
          [
           1
          ]
         ],
         "hovertemplate": "indicator=has_lcs<br>floor_passport_score=%{x}<br>not_sybil_rate=%{y}<br>unique_voters=%{customdata[0]}<extra></extra>",
         "legendgroup": "has_lcs",
         "marker": {
          "color": "#636efa",
          "symbol": "circle"
         },
         "mode": "markers",
         "name": "has_lcs",
         "orientation": "v",
         "showlegend": true,
         "type": "scatter",
         "x": [
          0,
          1,
          2,
          3,
          4,
          5,
          6,
          7,
          8,
          9,
          10,
          11,
          12,
          13,
          14,
          15,
          16,
          17,
          18,
          19,
          20,
          21,
          22,
          23,
          24,
          25,
          26,
          27,
          28,
          29,
          30,
          31,
          32,
          33,
          34,
          35,
          36,
          37,
          38,
          39,
          40,
          41,
          42,
          43,
          44,
          45,
          46,
          47,
          48,
          49,
          50,
          51,
          52,
          53,
          56,
          59
         ],
         "xaxis": "x",
         "y": [
          0.9264990328820116,
          0.9239130434782609,
          0.9176470588235294,
          0.8653846153846154,
          0.9807692307692307,
          0.9148936170212766,
          0.9565217391304348,
          0.9285714285714286,
          0.9603174603174603,
          0.9145299145299145,
          0.9307479224376731,
          0.9741100323624595,
          0.9469026548672567,
          0.8408602150537634,
          0.8868852459016393,
          0.9017199017199017,
          0.926441351888668,
          0.9511599511599511,
          0.967741935483871,
          0.973305954825462,
          0.9086206896551724,
          0.9622641509433962,
          0.9421487603305785,
          0.9794344473007712,
          0.9932203389830508,
          0.985,
          0.9946808510638298,
          0.9870967741935484,
          0.9925925925925926,
          1,
          0.9915966386554622,
          1,
          0.9871794871794872,
          1,
          1,
          1,
          1,
          1,
          1,
          1,
          1,
          1,
          1,
          1,
          1,
          1,
          1,
          1,
          1,
          1,
          1,
          1,
          1,
          1,
          1,
          1
         ],
         "yaxis": "y"
        },
        {
         "customdata": [
          [
           5170
          ],
          [
           92
          ],
          [
           85
          ],
          [
           52
          ],
          [
           104
          ],
          [
           47
          ],
          [
           92
          ],
          [
           84
          ],
          [
           126
          ],
          [
           117
          ],
          [
           361
          ],
          [
           309
          ],
          [
           452
          ],
          [
           465
          ],
          [
           610
          ],
          [
           1221
          ],
          [
           1006
          ],
          [
           819
          ],
          [
           496
          ],
          [
           487
          ],
          [
           1160
          ],
          [
           901
          ],
          [
           484
          ],
          [
           389
          ],
          [
           295
          ],
          [
           200
          ],
          [
           188
          ],
          [
           155
          ],
          [
           135
          ],
          [
           91
          ],
          [
           119
          ],
          [
           107
          ],
          [
           78
          ],
          [
           65
          ],
          [
           46
          ],
          [
           82
          ],
          [
           48
          ],
          [
           43
          ],
          [
           45
          ],
          [
           41
          ],
          [
           27
          ],
          [
           34
          ],
          [
           18
          ],
          [
           13
          ],
          [
           17
          ],
          [
           8
          ],
          [
           10
          ],
          [
           5
          ],
          [
           6
          ],
          [
           5
          ],
          [
           4
          ],
          [
           2
          ],
          [
           1
          ],
          [
           2
          ],
          [
           1
          ],
          [
           1
          ]
         ],
         "hovertemplate": "indicator=has_interaction_toxic<br>floor_passport_score=%{x}<br>not_sybil_rate=%{y}<br>unique_voters=%{customdata[0]}<extra></extra>",
         "legendgroup": "has_interaction_toxic",
         "marker": {
          "color": "#EF553B",
          "symbol": "circle"
         },
         "mode": "markers",
         "name": "has_interaction_toxic",
         "orientation": "v",
         "showlegend": true,
         "type": "scatter",
         "x": [
          0,
          1,
          2,
          3,
          4,
          5,
          6,
          7,
          8,
          9,
          10,
          11,
          12,
          13,
          14,
          15,
          16,
          17,
          18,
          19,
          20,
          21,
          22,
          23,
          24,
          25,
          26,
          27,
          28,
          29,
          30,
          31,
          32,
          33,
          34,
          35,
          36,
          37,
          38,
          39,
          40,
          41,
          42,
          43,
          44,
          45,
          46,
          47,
          48,
          49,
          50,
          51,
          52,
          53,
          56,
          59
         ],
         "xaxis": "x",
         "y": [
          1,
          1,
          1,
          1,
          1,
          1,
          1,
          1,
          1,
          1,
          1,
          1,
          1,
          1,
          1,
          1,
          1,
          1,
          1,
          1,
          1,
          1,
          1,
          1,
          1,
          1,
          1,
          1,
          1,
          1,
          1,
          1,
          1,
          1,
          1,
          1,
          1,
          1,
          1,
          1,
          1,
          1,
          1,
          1,
          1,
          1,
          1,
          1,
          1,
          1,
          1,
          1,
          1,
          1,
          1,
          1
         ],
         "yaxis": "y"
        },
        {
         "customdata": [
          [
           5170
          ],
          [
           92
          ],
          [
           85
          ],
          [
           52
          ],
          [
           104
          ],
          [
           47
          ],
          [
           92
          ],
          [
           84
          ],
          [
           126
          ],
          [
           117
          ],
          [
           361
          ],
          [
           309
          ],
          [
           452
          ],
          [
           465
          ],
          [
           610
          ],
          [
           1221
          ],
          [
           1006
          ],
          [
           819
          ],
          [
           496
          ],
          [
           487
          ],
          [
           1160
          ],
          [
           901
          ],
          [
           484
          ],
          [
           389
          ],
          [
           295
          ],
          [
           200
          ],
          [
           188
          ],
          [
           155
          ],
          [
           135
          ],
          [
           91
          ],
          [
           119
          ],
          [
           107
          ],
          [
           78
          ],
          [
           65
          ],
          [
           46
          ],
          [
           82
          ],
          [
           48
          ],
          [
           43
          ],
          [
           45
          ],
          [
           41
          ],
          [
           27
          ],
          [
           34
          ],
          [
           18
          ],
          [
           13
          ],
          [
           17
          ],
          [
           8
          ],
          [
           10
          ],
          [
           5
          ],
          [
           6
          ],
          [
           5
          ],
          [
           4
          ],
          [
           2
          ],
          [
           1
          ],
          [
           2
          ],
          [
           1
          ],
          [
           1
          ]
         ],
         "hovertemplate": "indicator=has_interaction_disperse<br>floor_passport_score=%{x}<br>not_sybil_rate=%{y}<br>unique_voters=%{customdata[0]}<extra></extra>",
         "legendgroup": "has_interaction_disperse",
         "marker": {
          "color": "#00cc96",
          "symbol": "circle"
         },
         "mode": "markers",
         "name": "has_interaction_disperse",
         "orientation": "v",
         "showlegend": true,
         "type": "scatter",
         "x": [
          0,
          1,
          2,
          3,
          4,
          5,
          6,
          7,
          8,
          9,
          10,
          11,
          12,
          13,
          14,
          15,
          16,
          17,
          18,
          19,
          20,
          21,
          22,
          23,
          24,
          25,
          26,
          27,
          28,
          29,
          30,
          31,
          32,
          33,
          34,
          35,
          36,
          37,
          38,
          39,
          40,
          41,
          42,
          43,
          44,
          45,
          46,
          47,
          48,
          49,
          50,
          51,
          52,
          53,
          56,
          59
         ],
         "xaxis": "x",
         "y": [
          0.9996131528046421,
          1,
          1,
          0.9807692307692307,
          0.9903846153846154,
          1,
          0.9891304347826086,
          0.9404761904761905,
          0.9841269841269842,
          0.9914529914529915,
          0.997229916897507,
          0.970873786407767,
          0.995575221238938,
          0.9978494623655914,
          0.9967213114754099,
          1,
          0.9990059642147118,
          1,
          0.9979838709677419,
          1,
          0.9982758620689656,
          0.9988901220865705,
          1,
          1,
          1,
          1,
          1,
          1,
          1,
          1,
          0.9915966386554622,
          1,
          0.9871794871794872,
          1,
          1,
          1,
          1,
          0.9534883720930233,
          1,
          1,
          1,
          1,
          1,
          1,
          1,
          1,
          1,
          1,
          1,
          1,
          1,
          1,
          1,
          1,
          1,
          1
         ],
         "yaxis": "y"
        },
        {
         "customdata": [
          [
           5170
          ],
          [
           92
          ],
          [
           85
          ],
          [
           52
          ],
          [
           104
          ],
          [
           47
          ],
          [
           92
          ],
          [
           84
          ],
          [
           126
          ],
          [
           117
          ],
          [
           361
          ],
          [
           309
          ],
          [
           452
          ],
          [
           465
          ],
          [
           610
          ],
          [
           1221
          ],
          [
           1006
          ],
          [
           819
          ],
          [
           496
          ],
          [
           487
          ],
          [
           1160
          ],
          [
           901
          ],
          [
           484
          ],
          [
           389
          ],
          [
           295
          ],
          [
           200
          ],
          [
           188
          ],
          [
           155
          ],
          [
           135
          ],
          [
           91
          ],
          [
           119
          ],
          [
           107
          ],
          [
           78
          ],
          [
           65
          ],
          [
           46
          ],
          [
           82
          ],
          [
           48
          ],
          [
           43
          ],
          [
           45
          ],
          [
           41
          ],
          [
           27
          ],
          [
           34
          ],
          [
           18
          ],
          [
           13
          ],
          [
           17
          ],
          [
           8
          ],
          [
           10
          ],
          [
           5
          ],
          [
           6
          ],
          [
           5
          ],
          [
           4
          ],
          [
           2
          ],
          [
           1
          ],
          [
           2
          ],
          [
           1
          ],
          [
           1
          ]
         ],
         "hovertemplate": "indicator=is_airdrop_master<br>floor_passport_score=%{x}<br>not_sybil_rate=%{y}<br>unique_voters=%{customdata[0]}<extra></extra>",
         "legendgroup": "is_airdrop_master",
         "marker": {
          "color": "#ab63fa",
          "symbol": "circle"
         },
         "mode": "markers",
         "name": "is_airdrop_master",
         "orientation": "v",
         "showlegend": true,
         "type": "scatter",
         "x": [
          0,
          1,
          2,
          3,
          4,
          5,
          6,
          7,
          8,
          9,
          10,
          11,
          12,
          13,
          14,
          15,
          16,
          17,
          18,
          19,
          20,
          21,
          22,
          23,
          24,
          25,
          26,
          27,
          28,
          29,
          30,
          31,
          32,
          33,
          34,
          35,
          36,
          37,
          38,
          39,
          40,
          41,
          42,
          43,
          44,
          45,
          46,
          47,
          48,
          49,
          50,
          51,
          52,
          53,
          56,
          59
         ],
         "xaxis": "x",
         "y": [
          0.9653771760154739,
          1,
          0.9647058823529412,
          0.9230769230769231,
          0.9903846153846154,
          0.9148936170212766,
          0.9565217391304348,
          0.9761904761904762,
          0.9761904761904762,
          0.9487179487179487,
          0.9944598337950139,
          0.9870550161812298,
          0.9889380530973452,
          0.9956989247311828,
          0.9885245901639345,
          0.9893529893529893,
          0.9870775347912525,
          0.978021978021978,
          0.9818548387096774,
          0.973305954825462,
          0.978448275862069,
          0.9689234184239733,
          0.9524793388429752,
          0.9537275064267352,
          0.9322033898305084,
          0.905,
          0.8563829787234043,
          0.8903225806451613,
          0.8518518518518519,
          0.7692307692307692,
          0.7815126050420168,
          0.822429906542056,
          0.7564102564102564,
          0.8461538461538461,
          0.782608695652174,
          0.7195121951219512,
          0.5833333333333333,
          0.813953488372093,
          0.6666666666666667,
          0.5853658536585367,
          0.8148148148148149,
          0.7058823529411764,
          0.6666666666666667,
          0.6923076923076923,
          0.5882352941176471,
          0.5,
          0.6,
          0.8,
          0.6666666666666667,
          0.6,
          0.25,
          1,
          1,
          0.5,
          0,
          0
         ],
         "yaxis": "y"
        },
        {
         "customdata": [
          [
           5170
          ],
          [
           92
          ],
          [
           85
          ],
          [
           52
          ],
          [
           104
          ],
          [
           47
          ],
          [
           92
          ],
          [
           84
          ],
          [
           126
          ],
          [
           117
          ],
          [
           361
          ],
          [
           309
          ],
          [
           452
          ],
          [
           465
          ],
          [
           610
          ],
          [
           1221
          ],
          [
           1006
          ],
          [
           819
          ],
          [
           496
          ],
          [
           487
          ],
          [
           1160
          ],
          [
           901
          ],
          [
           484
          ],
          [
           389
          ],
          [
           295
          ],
          [
           200
          ],
          [
           188
          ],
          [
           155
          ],
          [
           135
          ],
          [
           91
          ],
          [
           119
          ],
          [
           107
          ],
          [
           78
          ],
          [
           65
          ],
          [
           46
          ],
          [
           82
          ],
          [
           48
          ],
          [
           43
          ],
          [
           45
          ],
          [
           41
          ],
          [
           27
          ],
          [
           34
          ],
          [
           18
          ],
          [
           13
          ],
          [
           17
          ],
          [
           8
          ],
          [
           10
          ],
          [
           5
          ],
          [
           6
          ],
          [
           5
          ],
          [
           4
          ],
          [
           2
          ],
          [
           1
          ],
          [
           2
          ],
          [
           1
          ],
          [
           1
          ]
         ],
         "hovertemplate": "indicator=has_interaction_airdrop_m<br>floor_passport_score=%{x}<br>not_sybil_rate=%{y}<br>unique_voters=%{customdata[0]}<extra></extra>",
         "legendgroup": "has_interaction_airdrop_m",
         "marker": {
          "color": "#FFA15A",
          "symbol": "circle"
         },
         "mode": "markers",
         "name": "has_interaction_airdrop_m",
         "orientation": "v",
         "showlegend": true,
         "type": "scatter",
         "x": [
          0,
          1,
          2,
          3,
          4,
          5,
          6,
          7,
          8,
          9,
          10,
          11,
          12,
          13,
          14,
          15,
          16,
          17,
          18,
          19,
          20,
          21,
          22,
          23,
          24,
          25,
          26,
          27,
          28,
          29,
          30,
          31,
          32,
          33,
          34,
          35,
          36,
          37,
          38,
          39,
          40,
          41,
          42,
          43,
          44,
          45,
          46,
          47,
          48,
          49,
          50,
          51,
          52,
          53,
          56,
          59
         ],
         "xaxis": "x",
         "y": [
          0.9692456479690522,
          1,
          0.9764705882352941,
          0.9038461538461539,
          0.9903846153846154,
          0.9787234042553191,
          0.9891304347826086,
          0.9880952380952381,
          0.9841269841269842,
          0.9572649572649573,
          0.9889196675900277,
          0.9870550161812298,
          0.9911504424778761,
          0.9849462365591398,
          0.9934426229508196,
          0.9811629811629812,
          0.9831013916500994,
          0.978021978021978,
          0.9717741935483871,
          0.9671457905544147,
          0.9741379310344828,
          0.9667036625971143,
          0.9442148760330579,
          0.9640102827763496,
          0.9423728813559322,
          0.885,
          0.9627659574468085,
          0.9419354838709677,
          0.9111111111111111,
          0.8571428571428572,
          0.865546218487395,
          0.8785046728971962,
          0.8461538461538461,
          0.8923076923076922,
          0.9130434782608696,
          0.8292682926829268,
          0.75,
          0.9069767441860466,
          0.7555555555555555,
          0.7560975609756098,
          0.8888888888888888,
          0.9705882352941176,
          0.8888888888888888,
          0.8461538461538461,
          0.7058823529411764,
          0.875,
          0.8,
          1,
          1,
          1,
          0.75,
          1,
          1,
          1,
          1,
          1
         ],
         "yaxis": "y"
        },
        {
         "customdata": [
          [
           5170
          ],
          [
           92
          ],
          [
           85
          ],
          [
           52
          ],
          [
           104
          ],
          [
           47
          ],
          [
           92
          ],
          [
           84
          ],
          [
           126
          ],
          [
           117
          ],
          [
           361
          ],
          [
           309
          ],
          [
           452
          ],
          [
           465
          ],
          [
           610
          ],
          [
           1221
          ],
          [
           1006
          ],
          [
           819
          ],
          [
           496
          ],
          [
           487
          ],
          [
           1160
          ],
          [
           901
          ],
          [
           484
          ],
          [
           389
          ],
          [
           295
          ],
          [
           200
          ],
          [
           188
          ],
          [
           155
          ],
          [
           135
          ],
          [
           91
          ],
          [
           119
          ],
          [
           107
          ],
          [
           78
          ],
          [
           65
          ],
          [
           46
          ],
          [
           82
          ],
          [
           48
          ],
          [
           43
          ],
          [
           45
          ],
          [
           41
          ],
          [
           27
          ],
          [
           34
          ],
          [
           18
          ],
          [
           13
          ],
          [
           17
          ],
          [
           8
          ],
          [
           10
          ],
          [
           5
          ],
          [
           6
          ],
          [
           5
          ],
          [
           4
          ],
          [
           2
          ],
          [
           1
          ],
          [
           2
          ],
          [
           1
          ],
          [
           1
          ]
         ],
         "hovertemplate": "indicator=interact_less_5tx<br>floor_passport_score=%{x}<br>not_sybil_rate=%{y}<br>unique_voters=%{customdata[0]}<extra></extra>",
         "legendgroup": "interact_less_5tx",
         "marker": {
          "color": "#19d3f3",
          "symbol": "circle"
         },
         "mode": "markers",
         "name": "interact_less_5tx",
         "orientation": "v",
         "showlegend": true,
         "type": "scatter",
         "x": [
          0,
          1,
          2,
          3,
          4,
          5,
          6,
          7,
          8,
          9,
          10,
          11,
          12,
          13,
          14,
          15,
          16,
          17,
          18,
          19,
          20,
          21,
          22,
          23,
          24,
          25,
          26,
          27,
          28,
          29,
          30,
          31,
          32,
          33,
          34,
          35,
          36,
          37,
          38,
          39,
          40,
          41,
          42,
          43,
          44,
          45,
          46,
          47,
          48,
          49,
          50,
          51,
          52,
          53,
          56,
          59
         ],
         "xaxis": "x",
         "y": [
          0.997678916827853,
          1,
          1,
          0.9807692307692307,
          1,
          1,
          1,
          1,
          1,
          1,
          0.997229916897507,
          1,
          0.9933628318584071,
          0.9935483870967742,
          0.9967213114754099,
          0.9991809991809992,
          1,
          0.9987789987789988,
          0.9979838709677419,
          0.997946611909651,
          0.996551724137931,
          0.9966703662597114,
          0.9979338842975206,
          1,
          1,
          1,
          1,
          1,
          1,
          1,
          1,
          1,
          1,
          1,
          1,
          1,
          1,
          1,
          1,
          1,
          1,
          1,
          1,
          1,
          1,
          1,
          1,
          1,
          1,
          1,
          1,
          1,
          1,
          1,
          1,
          1
         ],
         "yaxis": "y"
        },
        {
         "customdata": [
          [
           5170
          ],
          [
           92
          ],
          [
           85
          ],
          [
           52
          ],
          [
           104
          ],
          [
           47
          ],
          [
           92
          ],
          [
           84
          ],
          [
           126
          ],
          [
           117
          ],
          [
           361
          ],
          [
           309
          ],
          [
           452
          ],
          [
           465
          ],
          [
           610
          ],
          [
           1221
          ],
          [
           1006
          ],
          [
           819
          ],
          [
           496
          ],
          [
           487
          ],
          [
           1160
          ],
          [
           901
          ],
          [
           484
          ],
          [
           389
          ],
          [
           295
          ],
          [
           200
          ],
          [
           188
          ],
          [
           155
          ],
          [
           135
          ],
          [
           91
          ],
          [
           119
          ],
          [
           107
          ],
          [
           78
          ],
          [
           65
          ],
          [
           46
          ],
          [
           82
          ],
          [
           48
          ],
          [
           43
          ],
          [
           45
          ],
          [
           41
          ],
          [
           27
          ],
          [
           34
          ],
          [
           18
          ],
          [
           13
          ],
          [
           17
          ],
          [
           8
          ],
          [
           10
          ],
          [
           5
          ],
          [
           6
          ],
          [
           5
          ],
          [
           4
          ],
          [
           2
          ],
          [
           1
          ],
          [
           2
          ],
          [
           1
          ],
          [
           1
          ]
         ],
         "hovertemplate": "indicator=flagged<br>floor_passport_score=%{x}<br>not_sybil_rate=%{y}<br>unique_voters=%{customdata[0]}<extra></extra>",
         "legendgroup": "flagged",
         "marker": {
          "color": "#FF6692",
          "symbol": "circle"
         },
         "mode": "markers",
         "name": "flagged",
         "orientation": "v",
         "showlegend": true,
         "type": "scatter",
         "x": [
          0,
          1,
          2,
          3,
          4,
          5,
          6,
          7,
          8,
          9,
          10,
          11,
          12,
          13,
          14,
          15,
          16,
          17,
          18,
          19,
          20,
          21,
          22,
          23,
          24,
          25,
          26,
          27,
          28,
          29,
          30,
          31,
          32,
          33,
          34,
          35,
          36,
          37,
          38,
          39,
          40,
          41,
          42,
          43,
          44,
          45,
          46,
          47,
          48,
          49,
          50,
          51,
          52,
          53,
          56,
          59
         ],
         "xaxis": "x",
         "y": [
          0.867311411992263,
          0.9239130434782609,
          0.8705882352941177,
          0.75,
          0.9519230769230769,
          0.8297872340425532,
          0.8913043478260869,
          0.8333333333333334,
          0.9047619047619048,
          0.829059829059829,
          0.9085872576177285,
          0.919093851132686,
          0.915929203539823,
          0.8150537634408602,
          0.8639344262295082,
          0.8755118755118755,
          0.8986083499005965,
          0.9096459096459096,
          0.9213709677419355,
          0.9219712525667351,
          0.8629310344827587,
          0.9001109877913429,
          0.8450413223140496,
          0.910025706940874,
          0.8813559322033898,
          0.825,
          0.8297872340425532,
          0.832258064516129,
          0.7851851851851852,
          0.7032967032967032,
          0.680672268907563,
          0.7289719626168225,
          0.6666666666666667,
          0.8,
          0.7608695652173914,
          0.6341463414634146,
          0.5208333333333333,
          0.7209302325581395,
          0.5555555555555556,
          0.4878048780487805,
          0.7037037037037037,
          0.6764705882352942,
          0.6666666666666667,
          0.6923076923076923,
          0.4117647058823529,
          0.375,
          0.6,
          0.8,
          0.6666666666666667,
          0.6,
          0.25,
          1,
          1,
          0.5,
          0,
          0
         ],
         "yaxis": "y"
        },
        {
         "customdata": [
          [
           5170
          ],
          [
           92
          ],
          [
           85
          ],
          [
           52
          ],
          [
           104
          ],
          [
           47
          ],
          [
           92
          ],
          [
           84
          ],
          [
           126
          ],
          [
           117
          ],
          [
           361
          ],
          [
           309
          ],
          [
           452
          ],
          [
           465
          ],
          [
           610
          ],
          [
           1221
          ],
          [
           1006
          ],
          [
           819
          ],
          [
           496
          ],
          [
           487
          ],
          [
           1160
          ],
          [
           901
          ],
          [
           484
          ],
          [
           389
          ],
          [
           295
          ],
          [
           200
          ],
          [
           188
          ],
          [
           155
          ],
          [
           135
          ],
          [
           91
          ],
          [
           119
          ],
          [
           107
          ],
          [
           78
          ],
          [
           65
          ],
          [
           46
          ],
          [
           82
          ],
          [
           48
          ],
          [
           43
          ],
          [
           45
          ],
          [
           41
          ],
          [
           27
          ],
          [
           34
          ],
          [
           18
          ],
          [
           13
          ],
          [
           17
          ],
          [
           8
          ],
          [
           10
          ],
          [
           5
          ],
          [
           6
          ],
          [
           5
          ],
          [
           4
          ],
          [
           2
          ],
          [
           1
          ],
          [
           2
          ],
          [
           1
          ],
          [
           1
          ]
         ],
         "hovertemplate": "indicator=stakeridoo_detected<br>floor_passport_score=%{x}<br>not_sybil_rate=%{y}<br>unique_voters=%{customdata[0]}<extra></extra>",
         "legendgroup": "stakeridoo_detected",
         "marker": {
          "color": "#B6E880",
          "symbol": "circle"
         },
         "mode": "markers",
         "name": "stakeridoo_detected",
         "orientation": "v",
         "showlegend": true,
         "type": "scatter",
         "x": [
          0,
          1,
          2,
          3,
          4,
          5,
          6,
          7,
          8,
          9,
          10,
          11,
          12,
          13,
          14,
          15,
          16,
          17,
          18,
          19,
          20,
          21,
          22,
          23,
          24,
          25,
          26,
          27,
          28,
          29,
          30,
          31,
          32,
          33,
          34,
          35,
          36,
          37,
          38,
          39,
          40,
          41,
          42,
          43,
          44,
          45,
          46,
          47,
          48,
          49,
          50,
          51,
          52,
          53,
          56,
          59
         ],
         "xaxis": "x",
         "y": [
          0.9992263056092844,
          1,
          0.9882352941176471,
          1,
          1,
          1,
          1,
          1,
          1,
          0.9743589743589743,
          0.9944598337950139,
          0.9967637540453075,
          0.995575221238938,
          0.9913978494623656,
          0.9950819672131147,
          0.9918099918099919,
          0.9612326043737575,
          0.9768009768009768,
          0.9858870967741935,
          0.9897330595482546,
          0.996551724137931,
          0.9977802441731409,
          0.993801652892562,
          0.9897172236503856,
          0.9932203389830508,
          1,
          0.9946808510638298,
          0.9870967741935484,
          0.962962962962963,
          0.978021978021978,
          0.9831932773109243,
          1,
          1,
          0.9538461538461538,
          1,
          1,
          1,
          0.9534883720930233,
          1,
          0.975609756097561,
          1,
          0.9411764705882353,
          1,
          1,
          0.9411764705882353,
          1,
          1,
          1,
          1,
          1,
          1,
          1,
          1,
          1,
          1,
          1
         ],
         "yaxis": "y"
        },
        {
         "customdata": [
          [
           5170
          ],
          [
           92
          ],
          [
           85
          ],
          [
           52
          ],
          [
           104
          ],
          [
           47
          ],
          [
           92
          ],
          [
           84
          ],
          [
           126
          ],
          [
           117
          ],
          [
           361
          ],
          [
           309
          ],
          [
           452
          ],
          [
           465
          ],
          [
           610
          ],
          [
           1221
          ],
          [
           1006
          ],
          [
           819
          ],
          [
           496
          ],
          [
           487
          ],
          [
           1160
          ],
          [
           901
          ],
          [
           484
          ],
          [
           389
          ],
          [
           295
          ],
          [
           200
          ],
          [
           188
          ],
          [
           155
          ],
          [
           135
          ],
          [
           91
          ],
          [
           119
          ],
          [
           107
          ],
          [
           78
          ],
          [
           65
          ],
          [
           46
          ],
          [
           82
          ],
          [
           48
          ],
          [
           43
          ],
          [
           45
          ],
          [
           41
          ],
          [
           27
          ],
          [
           34
          ],
          [
           18
          ],
          [
           13
          ],
          [
           17
          ],
          [
           8
          ],
          [
           10
          ],
          [
           5
          ],
          [
           6
          ],
          [
           5
          ],
          [
           4
          ],
          [
           2
          ],
          [
           1
          ],
          [
           2
          ],
          [
           1
          ],
          [
           1
          ]
         ],
         "hovertemplate": "indicator=doge_detected<br>floor_passport_score=%{x}<br>not_sybil_rate=%{y}<br>unique_voters=%{customdata[0]}<extra></extra>",
         "legendgroup": "doge_detected",
         "marker": {
          "color": "#FF97FF",
          "symbol": "circle"
         },
         "mode": "markers",
         "name": "doge_detected",
         "orientation": "v",
         "showlegend": true,
         "type": "scatter",
         "x": [
          0,
          1,
          2,
          3,
          4,
          5,
          6,
          7,
          8,
          9,
          10,
          11,
          12,
          13,
          14,
          15,
          16,
          17,
          18,
          19,
          20,
          21,
          22,
          23,
          24,
          25,
          26,
          27,
          28,
          29,
          30,
          31,
          32,
          33,
          34,
          35,
          36,
          37,
          38,
          39,
          40,
          41,
          42,
          43,
          44,
          45,
          46,
          47,
          48,
          49,
          50,
          51,
          52,
          53,
          56,
          59
         ],
         "xaxis": "x",
         "y": [
          1,
          1,
          1,
          1,
          1,
          1,
          1,
          1,
          1,
          1,
          1,
          1,
          1,
          1,
          1,
          1,
          1,
          1,
          1,
          1,
          1,
          1,
          0.9979338842975206,
          1,
          1,
          1,
          1,
          1,
          1,
          1,
          1,
          0.9906542056074766,
          1,
          1,
          1,
          1,
          1,
          1,
          1,
          1,
          1,
          1,
          1,
          1,
          1,
          1,
          1,
          1,
          1,
          1,
          1,
          1,
          1,
          1,
          1,
          1
         ],
         "yaxis": "y"
        },
        {
         "customdata": [
          [
           5170
          ],
          [
           92
          ],
          [
           85
          ],
          [
           52
          ],
          [
           104
          ],
          [
           47
          ],
          [
           92
          ],
          [
           84
          ],
          [
           126
          ],
          [
           117
          ],
          [
           361
          ],
          [
           309
          ],
          [
           452
          ],
          [
           465
          ],
          [
           610
          ],
          [
           1221
          ],
          [
           1006
          ],
          [
           819
          ],
          [
           496
          ],
          [
           487
          ],
          [
           1160
          ],
          [
           901
          ],
          [
           484
          ],
          [
           389
          ],
          [
           295
          ],
          [
           200
          ],
          [
           188
          ],
          [
           155
          ],
          [
           135
          ],
          [
           91
          ],
          [
           119
          ],
          [
           107
          ],
          [
           78
          ],
          [
           65
          ],
          [
           46
          ],
          [
           82
          ],
          [
           48
          ],
          [
           43
          ],
          [
           45
          ],
          [
           41
          ],
          [
           27
          ],
          [
           34
          ],
          [
           18
          ],
          [
           13
          ],
          [
           17
          ],
          [
           8
          ],
          [
           10
          ],
          [
           5
          ],
          [
           6
          ],
          [
           5
          ],
          [
           4
          ],
          [
           2
          ],
          [
           1
          ],
          [
           2
          ],
          [
           1
          ],
          [
           1
          ]
         ],
         "hovertemplate": "indicator=odc_detected<br>floor_passport_score=%{x}<br>not_sybil_rate=%{y}<br>unique_voters=%{customdata[0]}<extra></extra>",
         "legendgroup": "odc_detected",
         "marker": {
          "color": "#FECB52",
          "symbol": "circle"
         },
         "mode": "markers",
         "name": "odc_detected",
         "orientation": "v",
         "showlegend": true,
         "type": "scatter",
         "x": [
          0,
          1,
          2,
          3,
          4,
          5,
          6,
          7,
          8,
          9,
          10,
          11,
          12,
          13,
          14,
          15,
          16,
          17,
          18,
          19,
          20,
          21,
          22,
          23,
          24,
          25,
          26,
          27,
          28,
          29,
          30,
          31,
          32,
          33,
          34,
          35,
          36,
          37,
          38,
          39,
          40,
          41,
          42,
          43,
          44,
          45,
          46,
          47,
          48,
          49,
          50,
          51,
          52,
          53,
          56,
          59
         ],
         "xaxis": "x",
         "y": [
          0.8272727272727273,
          0.9239130434782609,
          0.8235294117647058,
          0.7307692307692308,
          0.9134615384615384,
          0.7872340425531915,
          0.8478260869565217,
          0.8333333333333334,
          0.8095238095238095,
          0.7521367521367521,
          0.8670360110803323,
          0.8996763754045307,
          0.8871681415929203,
          0.7806451612903226,
          0.8475409836065574,
          0.8091728091728092,
          0.8449304174950298,
          0.8656898656898657,
          0.8810483870967742,
          0.8685831622176592,
          0.8370689655172414,
          0.8612652608213096,
          0.8037190082644627,
          0.8663239074550129,
          0.847457627118644,
          0.78,
          0.7765957446808511,
          0.7870967741935484,
          0.7333333333333334,
          0.6593406593406593,
          0.680672268907563,
          0.7009345794392523,
          0.6538461538461539,
          0.7384615384615385,
          0.7173913043478262,
          0.5365853658536586,
          0.5,
          0.6744186046511628,
          0.48888888888888893,
          0.4878048780487805,
          0.7037037037037037,
          0.6470588235294117,
          0.6666666666666667,
          0.6923076923076923,
          0.4117647058823529,
          0.375,
          0.6,
          0.8,
          0.6666666666666667,
          0.6,
          0.25,
          1,
          1,
          0.5,
          0,
          0
         ],
         "yaxis": "y"
        },
        {
         "customdata": [
          [
           5170
          ],
          [
           92
          ],
          [
           85
          ],
          [
           52
          ],
          [
           104
          ],
          [
           47
          ],
          [
           92
          ],
          [
           84
          ],
          [
           126
          ],
          [
           117
          ],
          [
           361
          ],
          [
           309
          ],
          [
           452
          ],
          [
           465
          ],
          [
           610
          ],
          [
           1221
          ],
          [
           1006
          ],
          [
           819
          ],
          [
           496
          ],
          [
           487
          ],
          [
           1160
          ],
          [
           901
          ],
          [
           484
          ],
          [
           389
          ],
          [
           295
          ],
          [
           200
          ],
          [
           188
          ],
          [
           155
          ],
          [
           135
          ],
          [
           91
          ],
          [
           119
          ],
          [
           107
          ],
          [
           78
          ],
          [
           65
          ],
          [
           46
          ],
          [
           82
          ],
          [
           48
          ],
          [
           43
          ],
          [
           45
          ],
          [
           41
          ],
          [
           27
          ],
          [
           34
          ],
          [
           18
          ],
          [
           13
          ],
          [
           17
          ],
          [
           8
          ],
          [
           10
          ],
          [
           5
          ],
          [
           6
          ],
          [
           5
          ],
          [
           4
          ],
          [
           2
          ],
          [
           1
          ],
          [
           2
          ],
          [
           1
          ],
          [
           1
          ]
         ],
         "hovertemplate": "indicator=really_suspicicious_cluster<br>floor_passport_score=%{x}<br>not_sybil_rate=%{y}<br>unique_voters=%{customdata[0]}<extra></extra>",
         "legendgroup": "really_suspicicious_cluster",
         "marker": {
          "color": "#636efa",
          "symbol": "circle"
         },
         "mode": "markers",
         "name": "really_suspicicious_cluster",
         "orientation": "v",
         "showlegend": true,
         "type": "scatter",
         "x": [
          0,
          1,
          2,
          3,
          4,
          5,
          6,
          7,
          8,
          9,
          10,
          11,
          12,
          13,
          14,
          15,
          16,
          17,
          18,
          19,
          20,
          21,
          22,
          23,
          24,
          25,
          26,
          27,
          28,
          29,
          30,
          31,
          32,
          33,
          34,
          35,
          36,
          37,
          38,
          39,
          40,
          41,
          42,
          43,
          44,
          45,
          46,
          47,
          48,
          49,
          50,
          51,
          52,
          53,
          56,
          59
         ],
         "xaxis": "x",
         "y": [
          0.9526112185686654,
          0.9782608695652174,
          0.9647058823529412,
          0.9807692307692307,
          0.9615384615384616,
          0.9574468085106383,
          0.9565217391304348,
          1,
          0.8968253968253969,
          0.9316239316239316,
          0.9584487534626038,
          0.970873786407767,
          0.9734513274336283,
          0.967741935483871,
          0.9868852459016394,
          0.9312039312039312,
          0.9602385685884692,
          0.9633699633699634,
          0.9596774193548387,
          0.9486652977412731,
          0.9637931034482758,
          0.9611542730299667,
          0.9442148760330579,
          0.9640102827763496,
          0.9593220338983051,
          0.94,
          0.9308510638297872,
          0.9612903225806452,
          0.9333333333333333,
          0.9340659340659341,
          0.9915966386554622,
          0.9626168224299065,
          0.9615384615384616,
          0.9384615384615385,
          0.9565217391304348,
          0.8536585365853658,
          0.9583333333333334,
          0.9302325581395349,
          0.8666666666666667,
          0.926829268292683,
          1,
          0.9705882352941176,
          1,
          1,
          0.9411764705882353,
          1,
          1,
          1,
          1,
          1,
          1,
          1,
          1,
          1,
          1,
          1
         ],
         "yaxis": "y"
        }
       ],
       "layout": {
        "legend": {
         "title": {
          "text": "indicator"
         },
         "tracegroupgap": 0
        },
        "template": {
         "data": {
          "bar": [
           {
            "error_x": {
             "color": "#2a3f5f"
            },
            "error_y": {
             "color": "#2a3f5f"
            },
            "marker": {
             "line": {
              "color": "#E5ECF6",
              "width": 0.5
             },
             "pattern": {
              "fillmode": "overlay",
              "size": 10,
              "solidity": 0.2
             }
            },
            "type": "bar"
           }
          ],
          "barpolar": [
           {
            "marker": {
             "line": {
              "color": "#E5ECF6",
              "width": 0.5
             },
             "pattern": {
              "fillmode": "overlay",
              "size": 10,
              "solidity": 0.2
             }
            },
            "type": "barpolar"
           }
          ],
          "carpet": [
           {
            "aaxis": {
             "endlinecolor": "#2a3f5f",
             "gridcolor": "white",
             "linecolor": "white",
             "minorgridcolor": "white",
             "startlinecolor": "#2a3f5f"
            },
            "baxis": {
             "endlinecolor": "#2a3f5f",
             "gridcolor": "white",
             "linecolor": "white",
             "minorgridcolor": "white",
             "startlinecolor": "#2a3f5f"
            },
            "type": "carpet"
           }
          ],
          "choropleth": [
           {
            "colorbar": {
             "outlinewidth": 0,
             "ticks": ""
            },
            "type": "choropleth"
           }
          ],
          "contour": [
           {
            "colorbar": {
             "outlinewidth": 0,
             "ticks": ""
            },
            "colorscale": [
             [
              0,
              "#0d0887"
             ],
             [
              0.1111111111111111,
              "#46039f"
             ],
             [
              0.2222222222222222,
              "#7201a8"
             ],
             [
              0.3333333333333333,
              "#9c179e"
             ],
             [
              0.4444444444444444,
              "#bd3786"
             ],
             [
              0.5555555555555556,
              "#d8576b"
             ],
             [
              0.6666666666666666,
              "#ed7953"
             ],
             [
              0.7777777777777778,
              "#fb9f3a"
             ],
             [
              0.8888888888888888,
              "#fdca26"
             ],
             [
              1,
              "#f0f921"
             ]
            ],
            "type": "contour"
           }
          ],
          "contourcarpet": [
           {
            "colorbar": {
             "outlinewidth": 0,
             "ticks": ""
            },
            "type": "contourcarpet"
           }
          ],
          "heatmap": [
           {
            "colorbar": {
             "outlinewidth": 0,
             "ticks": ""
            },
            "colorscale": [
             [
              0,
              "#0d0887"
             ],
             [
              0.1111111111111111,
              "#46039f"
             ],
             [
              0.2222222222222222,
              "#7201a8"
             ],
             [
              0.3333333333333333,
              "#9c179e"
             ],
             [
              0.4444444444444444,
              "#bd3786"
             ],
             [
              0.5555555555555556,
              "#d8576b"
             ],
             [
              0.6666666666666666,
              "#ed7953"
             ],
             [
              0.7777777777777778,
              "#fb9f3a"
             ],
             [
              0.8888888888888888,
              "#fdca26"
             ],
             [
              1,
              "#f0f921"
             ]
            ],
            "type": "heatmap"
           }
          ],
          "heatmapgl": [
           {
            "colorbar": {
             "outlinewidth": 0,
             "ticks": ""
            },
            "colorscale": [
             [
              0,
              "#0d0887"
             ],
             [
              0.1111111111111111,
              "#46039f"
             ],
             [
              0.2222222222222222,
              "#7201a8"
             ],
             [
              0.3333333333333333,
              "#9c179e"
             ],
             [
              0.4444444444444444,
              "#bd3786"
             ],
             [
              0.5555555555555556,
              "#d8576b"
             ],
             [
              0.6666666666666666,
              "#ed7953"
             ],
             [
              0.7777777777777778,
              "#fb9f3a"
             ],
             [
              0.8888888888888888,
              "#fdca26"
             ],
             [
              1,
              "#f0f921"
             ]
            ],
            "type": "heatmapgl"
           }
          ],
          "histogram": [
           {
            "marker": {
             "pattern": {
              "fillmode": "overlay",
              "size": 10,
              "solidity": 0.2
             }
            },
            "type": "histogram"
           }
          ],
          "histogram2d": [
           {
            "colorbar": {
             "outlinewidth": 0,
             "ticks": ""
            },
            "colorscale": [
             [
              0,
              "#0d0887"
             ],
             [
              0.1111111111111111,
              "#46039f"
             ],
             [
              0.2222222222222222,
              "#7201a8"
             ],
             [
              0.3333333333333333,
              "#9c179e"
             ],
             [
              0.4444444444444444,
              "#bd3786"
             ],
             [
              0.5555555555555556,
              "#d8576b"
             ],
             [
              0.6666666666666666,
              "#ed7953"
             ],
             [
              0.7777777777777778,
              "#fb9f3a"
             ],
             [
              0.8888888888888888,
              "#fdca26"
             ],
             [
              1,
              "#f0f921"
             ]
            ],
            "type": "histogram2d"
           }
          ],
          "histogram2dcontour": [
           {
            "colorbar": {
             "outlinewidth": 0,
             "ticks": ""
            },
            "colorscale": [
             [
              0,
              "#0d0887"
             ],
             [
              0.1111111111111111,
              "#46039f"
             ],
             [
              0.2222222222222222,
              "#7201a8"
             ],
             [
              0.3333333333333333,
              "#9c179e"
             ],
             [
              0.4444444444444444,
              "#bd3786"
             ],
             [
              0.5555555555555556,
              "#d8576b"
             ],
             [
              0.6666666666666666,
              "#ed7953"
             ],
             [
              0.7777777777777778,
              "#fb9f3a"
             ],
             [
              0.8888888888888888,
              "#fdca26"
             ],
             [
              1,
              "#f0f921"
             ]
            ],
            "type": "histogram2dcontour"
           }
          ],
          "mesh3d": [
           {
            "colorbar": {
             "outlinewidth": 0,
             "ticks": ""
            },
            "type": "mesh3d"
           }
          ],
          "parcoords": [
           {
            "line": {
             "colorbar": {
              "outlinewidth": 0,
              "ticks": ""
             }
            },
            "type": "parcoords"
           }
          ],
          "pie": [
           {
            "automargin": true,
            "type": "pie"
           }
          ],
          "scatter": [
           {
            "fillpattern": {
             "fillmode": "overlay",
             "size": 10,
             "solidity": 0.2
            },
            "type": "scatter"
           }
          ],
          "scatter3d": [
           {
            "line": {
             "colorbar": {
              "outlinewidth": 0,
              "ticks": ""
             }
            },
            "marker": {
             "colorbar": {
              "outlinewidth": 0,
              "ticks": ""
             }
            },
            "type": "scatter3d"
           }
          ],
          "scattercarpet": [
           {
            "marker": {
             "colorbar": {
              "outlinewidth": 0,
              "ticks": ""
             }
            },
            "type": "scattercarpet"
           }
          ],
          "scattergeo": [
           {
            "marker": {
             "colorbar": {
              "outlinewidth": 0,
              "ticks": ""
             }
            },
            "type": "scattergeo"
           }
          ],
          "scattergl": [
           {
            "marker": {
             "colorbar": {
              "outlinewidth": 0,
              "ticks": ""
             }
            },
            "type": "scattergl"
           }
          ],
          "scattermapbox": [
           {
            "marker": {
             "colorbar": {
              "outlinewidth": 0,
              "ticks": ""
             }
            },
            "type": "scattermapbox"
           }
          ],
          "scatterpolar": [
           {
            "marker": {
             "colorbar": {
              "outlinewidth": 0,
              "ticks": ""
             }
            },
            "type": "scatterpolar"
           }
          ],
          "scatterpolargl": [
           {
            "marker": {
             "colorbar": {
              "outlinewidth": 0,
              "ticks": ""
             }
            },
            "type": "scatterpolargl"
           }
          ],
          "scatterternary": [
           {
            "marker": {
             "colorbar": {
              "outlinewidth": 0,
              "ticks": ""
             }
            },
            "type": "scatterternary"
           }
          ],
          "surface": [
           {
            "colorbar": {
             "outlinewidth": 0,
             "ticks": ""
            },
            "colorscale": [
             [
              0,
              "#0d0887"
             ],
             [
              0.1111111111111111,
              "#46039f"
             ],
             [
              0.2222222222222222,
              "#7201a8"
             ],
             [
              0.3333333333333333,
              "#9c179e"
             ],
             [
              0.4444444444444444,
              "#bd3786"
             ],
             [
              0.5555555555555556,
              "#d8576b"
             ],
             [
              0.6666666666666666,
              "#ed7953"
             ],
             [
              0.7777777777777778,
              "#fb9f3a"
             ],
             [
              0.8888888888888888,
              "#fdca26"
             ],
             [
              1,
              "#f0f921"
             ]
            ],
            "type": "surface"
           }
          ],
          "table": [
           {
            "cells": {
             "fill": {
              "color": "#EBF0F8"
             },
             "line": {
              "color": "white"
             }
            },
            "header": {
             "fill": {
              "color": "#C8D4E3"
             },
             "line": {
              "color": "white"
             }
            },
            "type": "table"
           }
          ]
         },
         "layout": {
          "annotationdefaults": {
           "arrowcolor": "#2a3f5f",
           "arrowhead": 0,
           "arrowwidth": 1
          },
          "autotypenumbers": "strict",
          "coloraxis": {
           "colorbar": {
            "outlinewidth": 0,
            "ticks": ""
           }
          },
          "colorscale": {
           "diverging": [
            [
             0,
             "#8e0152"
            ],
            [
             0.1,
             "#c51b7d"
            ],
            [
             0.2,
             "#de77ae"
            ],
            [
             0.3,
             "#f1b6da"
            ],
            [
             0.4,
             "#fde0ef"
            ],
            [
             0.5,
             "#f7f7f7"
            ],
            [
             0.6,
             "#e6f5d0"
            ],
            [
             0.7,
             "#b8e186"
            ],
            [
             0.8,
             "#7fbc41"
            ],
            [
             0.9,
             "#4d9221"
            ],
            [
             1,
             "#276419"
            ]
           ],
           "sequential": [
            [
             0,
             "#0d0887"
            ],
            [
             0.1111111111111111,
             "#46039f"
            ],
            [
             0.2222222222222222,
             "#7201a8"
            ],
            [
             0.3333333333333333,
             "#9c179e"
            ],
            [
             0.4444444444444444,
             "#bd3786"
            ],
            [
             0.5555555555555556,
             "#d8576b"
            ],
            [
             0.6666666666666666,
             "#ed7953"
            ],
            [
             0.7777777777777778,
             "#fb9f3a"
            ],
            [
             0.8888888888888888,
             "#fdca26"
            ],
            [
             1,
             "#f0f921"
            ]
           ],
           "sequentialminus": [
            [
             0,
             "#0d0887"
            ],
            [
             0.1111111111111111,
             "#46039f"
            ],
            [
             0.2222222222222222,
             "#7201a8"
            ],
            [
             0.3333333333333333,
             "#9c179e"
            ],
            [
             0.4444444444444444,
             "#bd3786"
            ],
            [
             0.5555555555555556,
             "#d8576b"
            ],
            [
             0.6666666666666666,
             "#ed7953"
            ],
            [
             0.7777777777777778,
             "#fb9f3a"
            ],
            [
             0.8888888888888888,
             "#fdca26"
            ],
            [
             1,
             "#f0f921"
            ]
           ]
          },
          "colorway": [
           "#636efa",
           "#EF553B",
           "#00cc96",
           "#ab63fa",
           "#FFA15A",
           "#19d3f3",
           "#FF6692",
           "#B6E880",
           "#FF97FF",
           "#FECB52"
          ],
          "font": {
           "color": "#2a3f5f"
          },
          "geo": {
           "bgcolor": "white",
           "lakecolor": "white",
           "landcolor": "#E5ECF6",
           "showlakes": true,
           "showland": true,
           "subunitcolor": "white"
          },
          "hoverlabel": {
           "align": "left"
          },
          "hovermode": "closest",
          "mapbox": {
           "style": "light"
          },
          "paper_bgcolor": "white",
          "plot_bgcolor": "#E5ECF6",
          "polar": {
           "angularaxis": {
            "gridcolor": "white",
            "linecolor": "white",
            "ticks": ""
           },
           "bgcolor": "#E5ECF6",
           "radialaxis": {
            "gridcolor": "white",
            "linecolor": "white",
            "ticks": ""
           }
          },
          "scene": {
           "xaxis": {
            "backgroundcolor": "#E5ECF6",
            "gridcolor": "white",
            "gridwidth": 2,
            "linecolor": "white",
            "showbackground": true,
            "ticks": "",
            "zerolinecolor": "white"
           },
           "yaxis": {
            "backgroundcolor": "#E5ECF6",
            "gridcolor": "white",
            "gridwidth": 2,
            "linecolor": "white",
            "showbackground": true,
            "ticks": "",
            "zerolinecolor": "white"
           },
           "zaxis": {
            "backgroundcolor": "#E5ECF6",
            "gridcolor": "white",
            "gridwidth": 2,
            "linecolor": "white",
            "showbackground": true,
            "ticks": "",
            "zerolinecolor": "white"
           }
          },
          "shapedefaults": {
           "line": {
            "color": "#2a3f5f"
           }
          },
          "ternary": {
           "aaxis": {
            "gridcolor": "white",
            "linecolor": "white",
            "ticks": ""
           },
           "baxis": {
            "gridcolor": "white",
            "linecolor": "white",
            "ticks": ""
           },
           "bgcolor": "#E5ECF6",
           "caxis": {
            "gridcolor": "white",
            "linecolor": "white",
            "ticks": ""
           }
          },
          "title": {
           "x": 0.05
          },
          "xaxis": {
           "automargin": true,
           "gridcolor": "white",
           "linecolor": "white",
           "ticks": "",
           "title": {
            "standoff": 15
           },
           "zerolinecolor": "white",
           "zerolinewidth": 2
          },
          "yaxis": {
           "automargin": true,
           "gridcolor": "white",
           "linecolor": "white",
           "ticks": "",
           "title": {
            "standoff": 15
           },
           "zerolinecolor": "white",
           "zerolinewidth": 2
          }
         }
        },
        "title": {
         "text": "Not Sybil Rates by Floor of Raw Score for Each Indicator"
        },
        "xaxis": {
         "anchor": "y",
         "domain": [
          0,
          1
         ],
         "title": {
          "text": "floor_passport_score"
         }
        },
        "yaxis": {
         "anchor": "x",
         "domain": [
          0,
          1
         ],
         "title": {
          "text": "not_sybil_rate"
         }
        }
       }
      }
     },
     "metadata": {},
     "output_type": "display_data"
    }
   ],
   "source": [
    "# Calculate the number of unique voter addresses for each floor of raw score\n",
    "unique_voters = df.groupby('floor_passport_score')['voter'].nunique().reset_index()\n",
    "\n",
    "# Reshape the DataFrame from wide format to long format\n",
    "pass_rates_long = df_pass_rates.melt(id_vars='floor_passport_score', var_name='indicator', value_name='not_sybil_rate')\n",
    "\n",
    "# Merge unique voter counts with pass_rates_long DataFrame\n",
    "pass_rates_long = pass_rates_long.merge(unique_voters, on='floor_passport_score', how='left')\n",
    "# change name of voter to unique_voters\n",
    "pass_rates_long.rename(columns={'voter': 'unique_voters'}, inplace=True)\n",
    "\n",
    "# Create a scatter plot\n",
    "fig2 = px.scatter(\n",
    "    pass_rates_long,\n",
    "    x='floor_passport_score',\n",
    "    y='not_sybil_rate',\n",
    "    color='indicator',\n",
    "    hover_data=[pass_rates_long['unique_voters']],\n",
    "    title='Not Sybil Rates by Floor of Raw Score for Each Indicator'\n",
    ")\n",
    "\n",
    "fig2.show()"
   ]
  },
  {
   "cell_type": "code",
   "execution_count": 10,
   "metadata": {},
   "outputs": [
    {
     "data": {
      "text/html": [
       "<div>\n",
       "<style scoped>\n",
       "    .dataframe tbody tr th:only-of-type {\n",
       "        vertical-align: middle;\n",
       "    }\n",
       "\n",
       "    .dataframe tbody tr th {\n",
       "        vertical-align: top;\n",
       "    }\n",
       "\n",
       "    .dataframe thead th {\n",
       "        text-align: right;\n",
       "    }\n",
       "</style>\n",
       "<table border=\"1\" class=\"dataframe\">\n",
       "  <thead>\n",
       "    <tr style=\"text-align: right;\">\n",
       "      <th></th>\n",
       "      <th>indicator</th>\n",
       "      <th>Pearson Correlation Coefficient</th>\n",
       "      <th>Kendall Correlation Coefficient</th>\n",
       "    </tr>\n",
       "  </thead>\n",
       "  <tbody>\n",
       "    <tr>\n",
       "      <th>0</th>\n",
       "      <td>has_lcs</td>\n",
       "      <td>0.754421</td>\n",
       "      <td>0.712072</td>\n",
       "    </tr>\n",
       "    <tr>\n",
       "      <th>1</th>\n",
       "      <td>interact_less_5tx</td>\n",
       "      <td>0.360769</td>\n",
       "      <td>0.364483</td>\n",
       "    </tr>\n",
       "    <tr>\n",
       "      <th>2</th>\n",
       "      <td>really_suspicicious_cluster</td>\n",
       "      <td>0.303328</td>\n",
       "      <td>0.222815</td>\n",
       "    </tr>\n",
       "    <tr>\n",
       "      <th>3</th>\n",
       "      <td>has_interaction_disperse</td>\n",
       "      <td>0.284837</td>\n",
       "      <td>0.456835</td>\n",
       "    </tr>\n",
       "    <tr>\n",
       "      <th>4</th>\n",
       "      <td>doge_detected</td>\n",
       "      <td>-0.017403</td>\n",
       "      <td>0.007322</td>\n",
       "    </tr>\n",
       "    <tr>\n",
       "      <th>5</th>\n",
       "      <td>stakeridoo_detected</td>\n",
       "      <td>-0.028831</td>\n",
       "      <td>0.127885</td>\n",
       "    </tr>\n",
       "    <tr>\n",
       "      <th>6</th>\n",
       "      <td>has_interaction_airdrop_m</td>\n",
       "      <td>-0.345026</td>\n",
       "      <td>-0.242703</td>\n",
       "    </tr>\n",
       "    <tr>\n",
       "      <th>7</th>\n",
       "      <td>odc_detected</td>\n",
       "      <td>-0.633980</td>\n",
       "      <td>-0.515773</td>\n",
       "    </tr>\n",
       "    <tr>\n",
       "      <th>8</th>\n",
       "      <td>flagged</td>\n",
       "      <td>-0.667317</td>\n",
       "      <td>-0.523439</td>\n",
       "    </tr>\n",
       "    <tr>\n",
       "      <th>9</th>\n",
       "      <td>is_airdrop_master</td>\n",
       "      <td>-0.744424</td>\n",
       "      <td>-0.605866</td>\n",
       "    </tr>\n",
       "    <tr>\n",
       "      <th>10</th>\n",
       "      <td>has_interaction_toxic</td>\n",
       "      <td>NaN</td>\n",
       "      <td>NaN</td>\n",
       "    </tr>\n",
       "  </tbody>\n",
       "</table>\n",
       "</div>"
      ],
      "text/plain": [
       "                      indicator  Pearson Correlation Coefficient  \\\n",
       "0                       has_lcs                         0.754421   \n",
       "1             interact_less_5tx                         0.360769   \n",
       "2   really_suspicicious_cluster                         0.303328   \n",
       "3      has_interaction_disperse                         0.284837   \n",
       "4                 doge_detected                        -0.017403   \n",
       "5           stakeridoo_detected                        -0.028831   \n",
       "6     has_interaction_airdrop_m                        -0.345026   \n",
       "7                  odc_detected                        -0.633980   \n",
       "8                       flagged                        -0.667317   \n",
       "9             is_airdrop_master                        -0.744424   \n",
       "10        has_interaction_toxic                              NaN   \n",
       "\n",
       "    Kendall Correlation Coefficient  \n",
       "0                          0.712072  \n",
       "1                          0.364483  \n",
       "2                          0.222815  \n",
       "3                          0.456835  \n",
       "4                          0.007322  \n",
       "5                          0.127885  \n",
       "6                         -0.242703  \n",
       "7                         -0.515773  \n",
       "8                         -0.523439  \n",
       "9                         -0.605866  \n",
       "10                              NaN  "
      ]
     },
     "metadata": {},
     "output_type": "display_data"
    }
   ],
   "source": [
    "# Calculate the Pearson correlation coefficient for each indicator\n",
    "pearson_correlation_coefficients = pass_rates_long.groupby('indicator')[['floor_passport_score', 'not_sybil_rate']].corr().iloc[0::2, -1].reset_index()\n",
    "pearson_correlation_coefficients = pearson_correlation_coefficients.rename(columns={'not_sybil_rate': 'Pearson Correlation Coefficient'})\n",
    "pearson_correlation_coefficients = pearson_correlation_coefficients.sort_values(by='Pearson Correlation Coefficient', ascending=False)\n",
    "\n",
    "# Calculate the Kendall correlation coefficient for each indicator\n",
    "kendall_correlation_coefficients = pass_rates_long.groupby('indicator').apply(lambda x: x[['floor_passport_score', 'not_sybil_rate']].corr(method='kendall').iloc[0, 1]).reset_index()\n",
    "kendall_correlation_coefficients = kendall_correlation_coefficients.rename(columns={0: 'Kendall Correlation Coefficient'})\n",
    "kendall_correlation_coefficients = kendall_correlation_coefficients.sort_values(by='Kendall Correlation Coefficient', ascending=False)\n",
    "\n",
    "# Merge the two dataframes on 'indicator'\n",
    "correlation_coefficients = pd.merge(pearson_correlation_coefficients, kendall_correlation_coefficients, on='indicator')\n",
    "\n",
    "# Display the merged table\n",
    "display(correlation_coefficients[['indicator', 'Pearson Correlation Coefficient', 'Kendall Correlation Coefficient']])"
   ]
  },
  {
   "cell_type": "code",
   "execution_count": null,
   "metadata": {},
   "outputs": [],
   "source": [
    "df.head(10)"
   ]
  },
  {
   "cell_type": "code",
   "execution_count": 11,
   "metadata": {},
   "outputs": [
    {
     "data": {
      "text/html": [
       "<div>\n",
       "<style scoped>\n",
       "    .dataframe tbody tr th:only-of-type {\n",
       "        vertical-align: middle;\n",
       "    }\n",
       "\n",
       "    .dataframe tbody tr th {\n",
       "        vertical-align: top;\n",
       "    }\n",
       "\n",
       "    .dataframe thead th {\n",
       "        text-align: right;\n",
       "    }\n",
       "</style>\n",
       "<table border=\"1\" class=\"dataframe\">\n",
       "  <thead>\n",
       "    <tr style=\"text-align: right;\">\n",
       "      <th>title</th>\n",
       "      <th>40acres DAO</th>\n",
       "      <th>All for Climate DAO: Gitcoin support since GR12</th>\n",
       "      <th>Archimedes' Lever</th>\n",
       "      <th>Bankless Academy</th>\n",
       "      <th>Bankless Hindi</th>\n",
       "      <th>BanklessDAO's Gitcoin Citizens</th>\n",
       "      <th>Biteye</th>\n",
       "      <th>Blu3 Global</th>\n",
       "      <th>Bob Jiang</th>\n",
       "      <th>Borderless</th>\n",
       "      <th>...</th>\n",
       "      <th>Lefteris Karapetsas</th>\n",
       "      <th>OpenLore Library</th>\n",
       "      <th>Owocki/Supermodular.xyz (FBO Gitcoin Matching Pool)</th>\n",
       "      <th>Quadratic Trust - Anne Connelly</th>\n",
       "      <th>ZER8's Gitcoin Citizen Round Application</th>\n",
       "      <th>Zuzalu Gitcoin Hype Squad</th>\n",
       "      <th>greenpill.network</th>\n",
       "      <th>🐙 Mars - Gitcoin citizen</th>\n",
       "      <th>voter_dna</th>\n",
       "      <th>dna_counts</th>\n",
       "    </tr>\n",
       "    <tr>\n",
       "      <th>voter</th>\n",
       "      <th></th>\n",
       "      <th></th>\n",
       "      <th></th>\n",
       "      <th></th>\n",
       "      <th></th>\n",
       "      <th></th>\n",
       "      <th></th>\n",
       "      <th></th>\n",
       "      <th></th>\n",
       "      <th></th>\n",
       "      <th></th>\n",
       "      <th></th>\n",
       "      <th></th>\n",
       "      <th></th>\n",
       "      <th></th>\n",
       "      <th></th>\n",
       "      <th></th>\n",
       "      <th></th>\n",
       "      <th></th>\n",
       "      <th></th>\n",
       "      <th></th>\n",
       "    </tr>\n",
       "  </thead>\n",
       "  <tbody>\n",
       "    <tr>\n",
       "      <th>0x000000006f457c0f8f560333d9c2877287d92a92</th>\n",
       "      <td>0</td>\n",
       "      <td>0</td>\n",
       "      <td>0</td>\n",
       "      <td>0</td>\n",
       "      <td>0</td>\n",
       "      <td>0</td>\n",
       "      <td>0</td>\n",
       "      <td>0</td>\n",
       "      <td>0</td>\n",
       "      <td>0</td>\n",
       "      <td>...</td>\n",
       "      <td>0</td>\n",
       "      <td>0</td>\n",
       "      <td>0</td>\n",
       "      <td>0</td>\n",
       "      <td>0</td>\n",
       "      <td>0</td>\n",
       "      <td>0</td>\n",
       "      <td>0</td>\n",
       "      <td>000000000000000000000001000000000</td>\n",
       "      <td>1410</td>\n",
       "    </tr>\n",
       "    <tr>\n",
       "      <th>0x000128fa45d79dc9af8016da242781f12c363fd5</th>\n",
       "      <td>0</td>\n",
       "      <td>0</td>\n",
       "      <td>0</td>\n",
       "      <td>1</td>\n",
       "      <td>0</td>\n",
       "      <td>1</td>\n",
       "      <td>1</td>\n",
       "      <td>0</td>\n",
       "      <td>0</td>\n",
       "      <td>0</td>\n",
       "      <td>...</td>\n",
       "      <td>0</td>\n",
       "      <td>0</td>\n",
       "      <td>0</td>\n",
       "      <td>0</td>\n",
       "      <td>0</td>\n",
       "      <td>0</td>\n",
       "      <td>0</td>\n",
       "      <td>0</td>\n",
       "      <td>000101100000110000000001000000000</td>\n",
       "      <td>6</td>\n",
       "    </tr>\n",
       "    <tr>\n",
       "      <th>0x000569d03483abb8949f729908465e65c4bdb243</th>\n",
       "      <td>0</td>\n",
       "      <td>0</td>\n",
       "      <td>0</td>\n",
       "      <td>1</td>\n",
       "      <td>0</td>\n",
       "      <td>1</td>\n",
       "      <td>1</td>\n",
       "      <td>0</td>\n",
       "      <td>0</td>\n",
       "      <td>0</td>\n",
       "      <td>...</td>\n",
       "      <td>0</td>\n",
       "      <td>0</td>\n",
       "      <td>0</td>\n",
       "      <td>0</td>\n",
       "      <td>0</td>\n",
       "      <td>0</td>\n",
       "      <td>0</td>\n",
       "      <td>0</td>\n",
       "      <td>000101100000100000000001000000000</td>\n",
       "      <td>631</td>\n",
       "    </tr>\n",
       "    <tr>\n",
       "      <th>0x0015f1d02b55ec9edd7536ca628fd30361252ebf</th>\n",
       "      <td>0</td>\n",
       "      <td>0</td>\n",
       "      <td>0</td>\n",
       "      <td>0</td>\n",
       "      <td>0</td>\n",
       "      <td>1</td>\n",
       "      <td>0</td>\n",
       "      <td>0</td>\n",
       "      <td>0</td>\n",
       "      <td>0</td>\n",
       "      <td>...</td>\n",
       "      <td>0</td>\n",
       "      <td>0</td>\n",
       "      <td>0</td>\n",
       "      <td>0</td>\n",
       "      <td>0</td>\n",
       "      <td>0</td>\n",
       "      <td>0</td>\n",
       "      <td>0</td>\n",
       "      <td>000001000000000000000000000000000</td>\n",
       "      <td>876</td>\n",
       "    </tr>\n",
       "    <tr>\n",
       "      <th>0x0015f91e93996d7e5979bf32391a8be59aadd606</th>\n",
       "      <td>0</td>\n",
       "      <td>0</td>\n",
       "      <td>0</td>\n",
       "      <td>0</td>\n",
       "      <td>0</td>\n",
       "      <td>0</td>\n",
       "      <td>0</td>\n",
       "      <td>0</td>\n",
       "      <td>0</td>\n",
       "      <td>0</td>\n",
       "      <td>...</td>\n",
       "      <td>0</td>\n",
       "      <td>0</td>\n",
       "      <td>0</td>\n",
       "      <td>0</td>\n",
       "      <td>1</td>\n",
       "      <td>0</td>\n",
       "      <td>0</td>\n",
       "      <td>1</td>\n",
       "      <td>000000000000000101000001000001001</td>\n",
       "      <td>1</td>\n",
       "    </tr>\n",
       "    <tr>\n",
       "      <th>0x0017f7adf1b404298efa3015ca0b56961fea4c34</th>\n",
       "      <td>0</td>\n",
       "      <td>0</td>\n",
       "      <td>1</td>\n",
       "      <td>0</td>\n",
       "      <td>0</td>\n",
       "      <td>1</td>\n",
       "      <td>0</td>\n",
       "      <td>1</td>\n",
       "      <td>0</td>\n",
       "      <td>1</td>\n",
       "      <td>...</td>\n",
       "      <td>0</td>\n",
       "      <td>0</td>\n",
       "      <td>0</td>\n",
       "      <td>0</td>\n",
       "      <td>1</td>\n",
       "      <td>0</td>\n",
       "      <td>1</td>\n",
       "      <td>0</td>\n",
       "      <td>001001010100101001000001100001010</td>\n",
       "      <td>1</td>\n",
       "    </tr>\n",
       "    <tr>\n",
       "      <th>0x001eabec5ae0e4dc40aecd9a75a6377fa0b31dcb</th>\n",
       "      <td>0</td>\n",
       "      <td>0</td>\n",
       "      <td>0</td>\n",
       "      <td>1</td>\n",
       "      <td>0</td>\n",
       "      <td>0</td>\n",
       "      <td>0</td>\n",
       "      <td>0</td>\n",
       "      <td>0</td>\n",
       "      <td>0</td>\n",
       "      <td>...</td>\n",
       "      <td>0</td>\n",
       "      <td>0</td>\n",
       "      <td>0</td>\n",
       "      <td>0</td>\n",
       "      <td>0</td>\n",
       "      <td>0</td>\n",
       "      <td>0</td>\n",
       "      <td>0</td>\n",
       "      <td>000100000000000000000000000000000</td>\n",
       "      <td>864</td>\n",
       "    </tr>\n",
       "    <tr>\n",
       "      <th>0x00207f5ccddfbe98b38c87cd6d39674cb0090c62</th>\n",
       "      <td>0</td>\n",
       "      <td>0</td>\n",
       "      <td>0</td>\n",
       "      <td>0</td>\n",
       "      <td>0</td>\n",
       "      <td>0</td>\n",
       "      <td>0</td>\n",
       "      <td>0</td>\n",
       "      <td>0</td>\n",
       "      <td>0</td>\n",
       "      <td>...</td>\n",
       "      <td>0</td>\n",
       "      <td>0</td>\n",
       "      <td>0</td>\n",
       "      <td>0</td>\n",
       "      <td>0</td>\n",
       "      <td>0</td>\n",
       "      <td>0</td>\n",
       "      <td>0</td>\n",
       "      <td>000000000000100000000000000000000</td>\n",
       "      <td>294</td>\n",
       "    </tr>\n",
       "    <tr>\n",
       "      <th>0x002738a4a86d2591794fd36c120b36bad33d5f41</th>\n",
       "      <td>0</td>\n",
       "      <td>0</td>\n",
       "      <td>0</td>\n",
       "      <td>0</td>\n",
       "      <td>0</td>\n",
       "      <td>1</td>\n",
       "      <td>1</td>\n",
       "      <td>0</td>\n",
       "      <td>0</td>\n",
       "      <td>0</td>\n",
       "      <td>...</td>\n",
       "      <td>0</td>\n",
       "      <td>0</td>\n",
       "      <td>0</td>\n",
       "      <td>0</td>\n",
       "      <td>0</td>\n",
       "      <td>0</td>\n",
       "      <td>0</td>\n",
       "      <td>0</td>\n",
       "      <td>000001100000100000000001000000000</td>\n",
       "      <td>11</td>\n",
       "    </tr>\n",
       "    <tr>\n",
       "      <th>0x002a87a8a2e2398522dcf9c4ad11133d408ac393</th>\n",
       "      <td>0</td>\n",
       "      <td>0</td>\n",
       "      <td>0</td>\n",
       "      <td>0</td>\n",
       "      <td>0</td>\n",
       "      <td>0</td>\n",
       "      <td>0</td>\n",
       "      <td>0</td>\n",
       "      <td>0</td>\n",
       "      <td>0</td>\n",
       "      <td>...</td>\n",
       "      <td>0</td>\n",
       "      <td>0</td>\n",
       "      <td>0</td>\n",
       "      <td>0</td>\n",
       "      <td>0</td>\n",
       "      <td>0</td>\n",
       "      <td>0</td>\n",
       "      <td>0</td>\n",
       "      <td>000000000000000000010000000000000</td>\n",
       "      <td>98</td>\n",
       "    </tr>\n",
       "  </tbody>\n",
       "</table>\n",
       "<p>10 rows × 35 columns</p>\n",
       "</div>"
      ],
      "text/plain": [
       "title                                       40acres DAO  \\\n",
       "voter                                                     \n",
       "0x000000006f457c0f8f560333d9c2877287d92a92            0   \n",
       "0x000128fa45d79dc9af8016da242781f12c363fd5            0   \n",
       "0x000569d03483abb8949f729908465e65c4bdb243            0   \n",
       "0x0015f1d02b55ec9edd7536ca628fd30361252ebf            0   \n",
       "0x0015f91e93996d7e5979bf32391a8be59aadd606            0   \n",
       "0x0017f7adf1b404298efa3015ca0b56961fea4c34            0   \n",
       "0x001eabec5ae0e4dc40aecd9a75a6377fa0b31dcb            0   \n",
       "0x00207f5ccddfbe98b38c87cd6d39674cb0090c62            0   \n",
       "0x002738a4a86d2591794fd36c120b36bad33d5f41            0   \n",
       "0x002a87a8a2e2398522dcf9c4ad11133d408ac393            0   \n",
       "\n",
       "title                                       All for Climate DAO: Gitcoin support since GR12  \\\n",
       "voter                                                                                         \n",
       "0x000000006f457c0f8f560333d9c2877287d92a92                                                0   \n",
       "0x000128fa45d79dc9af8016da242781f12c363fd5                                                0   \n",
       "0x000569d03483abb8949f729908465e65c4bdb243                                                0   \n",
       "0x0015f1d02b55ec9edd7536ca628fd30361252ebf                                                0   \n",
       "0x0015f91e93996d7e5979bf32391a8be59aadd606                                                0   \n",
       "0x0017f7adf1b404298efa3015ca0b56961fea4c34                                                0   \n",
       "0x001eabec5ae0e4dc40aecd9a75a6377fa0b31dcb                                                0   \n",
       "0x00207f5ccddfbe98b38c87cd6d39674cb0090c62                                                0   \n",
       "0x002738a4a86d2591794fd36c120b36bad33d5f41                                                0   \n",
       "0x002a87a8a2e2398522dcf9c4ad11133d408ac393                                                0   \n",
       "\n",
       "title                                       Archimedes' Lever  \\\n",
       "voter                                                           \n",
       "0x000000006f457c0f8f560333d9c2877287d92a92                  0   \n",
       "0x000128fa45d79dc9af8016da242781f12c363fd5                  0   \n",
       "0x000569d03483abb8949f729908465e65c4bdb243                  0   \n",
       "0x0015f1d02b55ec9edd7536ca628fd30361252ebf                  0   \n",
       "0x0015f91e93996d7e5979bf32391a8be59aadd606                  0   \n",
       "0x0017f7adf1b404298efa3015ca0b56961fea4c34                  1   \n",
       "0x001eabec5ae0e4dc40aecd9a75a6377fa0b31dcb                  0   \n",
       "0x00207f5ccddfbe98b38c87cd6d39674cb0090c62                  0   \n",
       "0x002738a4a86d2591794fd36c120b36bad33d5f41                  0   \n",
       "0x002a87a8a2e2398522dcf9c4ad11133d408ac393                  0   \n",
       "\n",
       "title                                       Bankless Academy  Bankless Hindi  \\\n",
       "voter                                                                          \n",
       "0x000000006f457c0f8f560333d9c2877287d92a92                 0               0   \n",
       "0x000128fa45d79dc9af8016da242781f12c363fd5                 1               0   \n",
       "0x000569d03483abb8949f729908465e65c4bdb243                 1               0   \n",
       "0x0015f1d02b55ec9edd7536ca628fd30361252ebf                 0               0   \n",
       "0x0015f91e93996d7e5979bf32391a8be59aadd606                 0               0   \n",
       "0x0017f7adf1b404298efa3015ca0b56961fea4c34                 0               0   \n",
       "0x001eabec5ae0e4dc40aecd9a75a6377fa0b31dcb                 1               0   \n",
       "0x00207f5ccddfbe98b38c87cd6d39674cb0090c62                 0               0   \n",
       "0x002738a4a86d2591794fd36c120b36bad33d5f41                 0               0   \n",
       "0x002a87a8a2e2398522dcf9c4ad11133d408ac393                 0               0   \n",
       "\n",
       "title                                       BanklessDAO's Gitcoin Citizens  \\\n",
       "voter                                                                        \n",
       "0x000000006f457c0f8f560333d9c2877287d92a92                               0   \n",
       "0x000128fa45d79dc9af8016da242781f12c363fd5                               1   \n",
       "0x000569d03483abb8949f729908465e65c4bdb243                               1   \n",
       "0x0015f1d02b55ec9edd7536ca628fd30361252ebf                               1   \n",
       "0x0015f91e93996d7e5979bf32391a8be59aadd606                               0   \n",
       "0x0017f7adf1b404298efa3015ca0b56961fea4c34                               1   \n",
       "0x001eabec5ae0e4dc40aecd9a75a6377fa0b31dcb                               0   \n",
       "0x00207f5ccddfbe98b38c87cd6d39674cb0090c62                               0   \n",
       "0x002738a4a86d2591794fd36c120b36bad33d5f41                               1   \n",
       "0x002a87a8a2e2398522dcf9c4ad11133d408ac393                               0   \n",
       "\n",
       "title                                       Biteye  Blu3 Global  Bob Jiang  \\\n",
       "voter                                                                        \n",
       "0x000000006f457c0f8f560333d9c2877287d92a92       0            0          0   \n",
       "0x000128fa45d79dc9af8016da242781f12c363fd5       1            0          0   \n",
       "0x000569d03483abb8949f729908465e65c4bdb243       1            0          0   \n",
       "0x0015f1d02b55ec9edd7536ca628fd30361252ebf       0            0          0   \n",
       "0x0015f91e93996d7e5979bf32391a8be59aadd606       0            0          0   \n",
       "0x0017f7adf1b404298efa3015ca0b56961fea4c34       0            1          0   \n",
       "0x001eabec5ae0e4dc40aecd9a75a6377fa0b31dcb       0            0          0   \n",
       "0x00207f5ccddfbe98b38c87cd6d39674cb0090c62       0            0          0   \n",
       "0x002738a4a86d2591794fd36c120b36bad33d5f41       1            0          0   \n",
       "0x002a87a8a2e2398522dcf9c4ad11133d408ac393       0            0          0   \n",
       "\n",
       "title                                       Borderless  ...  \\\n",
       "voter                                                   ...   \n",
       "0x000000006f457c0f8f560333d9c2877287d92a92           0  ...   \n",
       "0x000128fa45d79dc9af8016da242781f12c363fd5           0  ...   \n",
       "0x000569d03483abb8949f729908465e65c4bdb243           0  ...   \n",
       "0x0015f1d02b55ec9edd7536ca628fd30361252ebf           0  ...   \n",
       "0x0015f91e93996d7e5979bf32391a8be59aadd606           0  ...   \n",
       "0x0017f7adf1b404298efa3015ca0b56961fea4c34           1  ...   \n",
       "0x001eabec5ae0e4dc40aecd9a75a6377fa0b31dcb           0  ...   \n",
       "0x00207f5ccddfbe98b38c87cd6d39674cb0090c62           0  ...   \n",
       "0x002738a4a86d2591794fd36c120b36bad33d5f41           0  ...   \n",
       "0x002a87a8a2e2398522dcf9c4ad11133d408ac393           0  ...   \n",
       "\n",
       "title                                       Lefteris Karapetsas  \\\n",
       "voter                                                             \n",
       "0x000000006f457c0f8f560333d9c2877287d92a92                    0   \n",
       "0x000128fa45d79dc9af8016da242781f12c363fd5                    0   \n",
       "0x000569d03483abb8949f729908465e65c4bdb243                    0   \n",
       "0x0015f1d02b55ec9edd7536ca628fd30361252ebf                    0   \n",
       "0x0015f91e93996d7e5979bf32391a8be59aadd606                    0   \n",
       "0x0017f7adf1b404298efa3015ca0b56961fea4c34                    0   \n",
       "0x001eabec5ae0e4dc40aecd9a75a6377fa0b31dcb                    0   \n",
       "0x00207f5ccddfbe98b38c87cd6d39674cb0090c62                    0   \n",
       "0x002738a4a86d2591794fd36c120b36bad33d5f41                    0   \n",
       "0x002a87a8a2e2398522dcf9c4ad11133d408ac393                    0   \n",
       "\n",
       "title                                       OpenLore Library  \\\n",
       "voter                                                          \n",
       "0x000000006f457c0f8f560333d9c2877287d92a92                 0   \n",
       "0x000128fa45d79dc9af8016da242781f12c363fd5                 0   \n",
       "0x000569d03483abb8949f729908465e65c4bdb243                 0   \n",
       "0x0015f1d02b55ec9edd7536ca628fd30361252ebf                 0   \n",
       "0x0015f91e93996d7e5979bf32391a8be59aadd606                 0   \n",
       "0x0017f7adf1b404298efa3015ca0b56961fea4c34                 0   \n",
       "0x001eabec5ae0e4dc40aecd9a75a6377fa0b31dcb                 0   \n",
       "0x00207f5ccddfbe98b38c87cd6d39674cb0090c62                 0   \n",
       "0x002738a4a86d2591794fd36c120b36bad33d5f41                 0   \n",
       "0x002a87a8a2e2398522dcf9c4ad11133d408ac393                 0   \n",
       "\n",
       "title                                       Owocki/Supermodular.xyz (FBO Gitcoin Matching Pool)  \\\n",
       "voter                                                                                             \n",
       "0x000000006f457c0f8f560333d9c2877287d92a92                                                  0     \n",
       "0x000128fa45d79dc9af8016da242781f12c363fd5                                                  0     \n",
       "0x000569d03483abb8949f729908465e65c4bdb243                                                  0     \n",
       "0x0015f1d02b55ec9edd7536ca628fd30361252ebf                                                  0     \n",
       "0x0015f91e93996d7e5979bf32391a8be59aadd606                                                  0     \n",
       "0x0017f7adf1b404298efa3015ca0b56961fea4c34                                                  0     \n",
       "0x001eabec5ae0e4dc40aecd9a75a6377fa0b31dcb                                                  0     \n",
       "0x00207f5ccddfbe98b38c87cd6d39674cb0090c62                                                  0     \n",
       "0x002738a4a86d2591794fd36c120b36bad33d5f41                                                  0     \n",
       "0x002a87a8a2e2398522dcf9c4ad11133d408ac393                                                  0     \n",
       "\n",
       "title                                       Quadratic Trust - Anne Connelly  \\\n",
       "voter                                                                         \n",
       "0x000000006f457c0f8f560333d9c2877287d92a92                                0   \n",
       "0x000128fa45d79dc9af8016da242781f12c363fd5                                0   \n",
       "0x000569d03483abb8949f729908465e65c4bdb243                                0   \n",
       "0x0015f1d02b55ec9edd7536ca628fd30361252ebf                                0   \n",
       "0x0015f91e93996d7e5979bf32391a8be59aadd606                                0   \n",
       "0x0017f7adf1b404298efa3015ca0b56961fea4c34                                0   \n",
       "0x001eabec5ae0e4dc40aecd9a75a6377fa0b31dcb                                0   \n",
       "0x00207f5ccddfbe98b38c87cd6d39674cb0090c62                                0   \n",
       "0x002738a4a86d2591794fd36c120b36bad33d5f41                                0   \n",
       "0x002a87a8a2e2398522dcf9c4ad11133d408ac393                                0   \n",
       "\n",
       "title                                       ZER8's Gitcoin Citizen Round Application  \\\n",
       "voter                                                                                  \n",
       "0x000000006f457c0f8f560333d9c2877287d92a92                                         0   \n",
       "0x000128fa45d79dc9af8016da242781f12c363fd5                                         0   \n",
       "0x000569d03483abb8949f729908465e65c4bdb243                                         0   \n",
       "0x0015f1d02b55ec9edd7536ca628fd30361252ebf                                         0   \n",
       "0x0015f91e93996d7e5979bf32391a8be59aadd606                                         1   \n",
       "0x0017f7adf1b404298efa3015ca0b56961fea4c34                                         1   \n",
       "0x001eabec5ae0e4dc40aecd9a75a6377fa0b31dcb                                         0   \n",
       "0x00207f5ccddfbe98b38c87cd6d39674cb0090c62                                         0   \n",
       "0x002738a4a86d2591794fd36c120b36bad33d5f41                                         0   \n",
       "0x002a87a8a2e2398522dcf9c4ad11133d408ac393                                         0   \n",
       "\n",
       "title                                       Zuzalu Gitcoin Hype Squad  \\\n",
       "voter                                                                   \n",
       "0x000000006f457c0f8f560333d9c2877287d92a92                          0   \n",
       "0x000128fa45d79dc9af8016da242781f12c363fd5                          0   \n",
       "0x000569d03483abb8949f729908465e65c4bdb243                          0   \n",
       "0x0015f1d02b55ec9edd7536ca628fd30361252ebf                          0   \n",
       "0x0015f91e93996d7e5979bf32391a8be59aadd606                          0   \n",
       "0x0017f7adf1b404298efa3015ca0b56961fea4c34                          0   \n",
       "0x001eabec5ae0e4dc40aecd9a75a6377fa0b31dcb                          0   \n",
       "0x00207f5ccddfbe98b38c87cd6d39674cb0090c62                          0   \n",
       "0x002738a4a86d2591794fd36c120b36bad33d5f41                          0   \n",
       "0x002a87a8a2e2398522dcf9c4ad11133d408ac393                          0   \n",
       "\n",
       "title                                       greenpill.network  \\\n",
       "voter                                                           \n",
       "0x000000006f457c0f8f560333d9c2877287d92a92                  0   \n",
       "0x000128fa45d79dc9af8016da242781f12c363fd5                  0   \n",
       "0x000569d03483abb8949f729908465e65c4bdb243                  0   \n",
       "0x0015f1d02b55ec9edd7536ca628fd30361252ebf                  0   \n",
       "0x0015f91e93996d7e5979bf32391a8be59aadd606                  0   \n",
       "0x0017f7adf1b404298efa3015ca0b56961fea4c34                  1   \n",
       "0x001eabec5ae0e4dc40aecd9a75a6377fa0b31dcb                  0   \n",
       "0x00207f5ccddfbe98b38c87cd6d39674cb0090c62                  0   \n",
       "0x002738a4a86d2591794fd36c120b36bad33d5f41                  0   \n",
       "0x002a87a8a2e2398522dcf9c4ad11133d408ac393                  0   \n",
       "\n",
       "title                                       🐙 Mars - Gitcoin citizen  \\\n",
       "voter                                                                  \n",
       "0x000000006f457c0f8f560333d9c2877287d92a92                         0   \n",
       "0x000128fa45d79dc9af8016da242781f12c363fd5                         0   \n",
       "0x000569d03483abb8949f729908465e65c4bdb243                         0   \n",
       "0x0015f1d02b55ec9edd7536ca628fd30361252ebf                         0   \n",
       "0x0015f91e93996d7e5979bf32391a8be59aadd606                         1   \n",
       "0x0017f7adf1b404298efa3015ca0b56961fea4c34                         0   \n",
       "0x001eabec5ae0e4dc40aecd9a75a6377fa0b31dcb                         0   \n",
       "0x00207f5ccddfbe98b38c87cd6d39674cb0090c62                         0   \n",
       "0x002738a4a86d2591794fd36c120b36bad33d5f41                         0   \n",
       "0x002a87a8a2e2398522dcf9c4ad11133d408ac393                         0   \n",
       "\n",
       "title                                                               voter_dna  \\\n",
       "voter                                                                           \n",
       "0x000000006f457c0f8f560333d9c2877287d92a92  000000000000000000000001000000000   \n",
       "0x000128fa45d79dc9af8016da242781f12c363fd5  000101100000110000000001000000000   \n",
       "0x000569d03483abb8949f729908465e65c4bdb243  000101100000100000000001000000000   \n",
       "0x0015f1d02b55ec9edd7536ca628fd30361252ebf  000001000000000000000000000000000   \n",
       "0x0015f91e93996d7e5979bf32391a8be59aadd606  000000000000000101000001000001001   \n",
       "0x0017f7adf1b404298efa3015ca0b56961fea4c34  001001010100101001000001100001010   \n",
       "0x001eabec5ae0e4dc40aecd9a75a6377fa0b31dcb  000100000000000000000000000000000   \n",
       "0x00207f5ccddfbe98b38c87cd6d39674cb0090c62  000000000000100000000000000000000   \n",
       "0x002738a4a86d2591794fd36c120b36bad33d5f41  000001100000100000000001000000000   \n",
       "0x002a87a8a2e2398522dcf9c4ad11133d408ac393  000000000000000000010000000000000   \n",
       "\n",
       "title                                       dna_counts  \n",
       "voter                                                   \n",
       "0x000000006f457c0f8f560333d9c2877287d92a92        1410  \n",
       "0x000128fa45d79dc9af8016da242781f12c363fd5           6  \n",
       "0x000569d03483abb8949f729908465e65c4bdb243         631  \n",
       "0x0015f1d02b55ec9edd7536ca628fd30361252ebf         876  \n",
       "0x0015f91e93996d7e5979bf32391a8be59aadd606           1  \n",
       "0x0017f7adf1b404298efa3015ca0b56961fea4c34           1  \n",
       "0x001eabec5ae0e4dc40aecd9a75a6377fa0b31dcb         864  \n",
       "0x00207f5ccddfbe98b38c87cd6d39674cb0090c62         294  \n",
       "0x002738a4a86d2591794fd36c120b36bad33d5f41          11  \n",
       "0x002a87a8a2e2398522dcf9c4ad11133d408ac393          98  \n",
       "\n",
       "[10 rows x 35 columns]"
      ]
     },
     "execution_count": 11,
     "metadata": {},
     "output_type": "execute_result"
    }
   ],
   "source": [
    "# Create a new dataframe where each voter will be assigned a 0 or 1 for each of the 33 projects\n",
    "df_pivot = df.pivot_table(index='voter', columns='title', values='amountUSD', aggfunc='size', fill_value=0)\n",
    "# Turn the amounts into 1 (voted) or 0 (not voted)\n",
    "df_pivot = df_pivot.applymap(lambda x: 1 if x > 0 else 0)\n",
    "# Convert the rows into strings to create a voter_dna\n",
    "df_pivot['voter_dna'] = df_pivot.apply(lambda row: ''.join(row.values.astype(str)), axis=1)\n",
    "\n",
    "# Now calculate the counts for each 'voter_dna'\n",
    "voter_dna_counts = df_pivot['voter_dna'].value_counts()\n",
    "\n",
    "# Add this as a new column to the dataframe\n",
    "df_pivot['dna_counts'] = df_pivot['voter_dna'].apply(lambda x: voter_dna_counts[x])\n",
    "df_pivot.head(10)\n"
   ]
  },
  {
   "cell_type": "code",
   "execution_count": null,
   "metadata": {},
   "outputs": [],
   "source": [
    "print(df_pivot.columns[:-2])"
   ]
  },
  {
   "cell_type": "code",
   "execution_count": 12,
   "metadata": {},
   "outputs": [],
   "source": [
    "# Create a dictionary to store the sum of dna_counts for each project\n",
    "project_dna_counts = {project: 0 for project in df_pivot.columns[:-2]}\n",
    "for _, row in df_pivot.iterrows():\n",
    "    dna = row['voter_dna']\n",
    "    dna_count = row['dna_counts']\n",
    "    for project, voted in row[:-2].items():\n",
    "        if voted == 1:\n",
    "            project_dna_counts[project] += dna_count\n"
   ]
  },
  {
   "cell_type": "code",
   "execution_count": 14,
   "metadata": {},
   "outputs": [
    {
     "ename": "ValueError",
     "evalue": "too many values to unpack (expected 2)",
     "output_type": "error",
     "traceback": [
      "\u001b[0;31m---------------------------------------------------------------------------\u001b[0m",
      "\u001b[0;31mValueError\u001b[0m                                Traceback (most recent call last)",
      "Cell \u001b[0;32mIn[14], line 31\u001b[0m\n\u001b[1;32m     29\u001b[0m sizes \u001b[39m=\u001b[39m []\n\u001b[1;32m     30\u001b[0m \u001b[39mfor\u001b[39;00m node \u001b[39min\u001b[39;00m B\u001b[39m.\u001b[39mnodes():\n\u001b[0;32m---> 31\u001b[0m     x, y \u001b[39m=\u001b[39m pos[node]\n\u001b[1;32m     32\u001b[0m     node_x\u001b[39m.\u001b[39mappend(x)\n\u001b[1;32m     33\u001b[0m     node_y\u001b[39m.\u001b[39mappend(y)\n",
      "\u001b[0;31mValueError\u001b[0m: too many values to unpack (expected 2)"
     ]
    }
   ],
   "source": [
    "grants_color = 'blue'\n",
    "voters_color = 'red'\n",
    "line_color = '#008F11'\n",
    "\n",
    "# Initialize a new Graph\n",
    "B = nx.Graph()\n",
    "\n",
    "# Create nodes with the bipartite attribute\n",
    "B.add_nodes_from(df['voter'].unique(), bipartite=0, color=voters_color) \n",
    "B.add_nodes_from(df['title'].unique(), bipartite=1, color=grants_color) \n",
    "\n",
    "\n",
    "\n",
    "# Add edges with amountUSD as an attribute\n",
    "for _, row in df.iterrows():\n",
    "    B.add_edge(row['voter'], row['title'], amountUSD=row['amountUSD'])\n",
    "\n",
    "\n",
    "\n",
    "# Compute the layout\n",
    "current_time = time.time()\n",
    "pos = nx.spring_layout(B, dim=3, k = .09, iterations=50)\n",
    "new_time = time.time()\n",
    "\n",
    "# Nodes\n",
    "node_x = []\n",
    "node_y = []\n",
    "node_z = []\n",
    "sizes = []\n",
    "for node in B.nodes():\n",
    "    x, y = pos[node]\n",
    "    node_x.append(x)\n",
    "    node_y.append(y)\n",
    "    node_z.append(len(B[node]))  # Z coordinate is the number of connections\n",
    "    # If node is a voter_dna, its size is based on the log of dna_counts.\n",
    "    # Otherwise, its size is based on the sum of adjacent dna_counts.\n",
    "    if node in df_pivot['voter_dna'].values:\n",
    "        count = df_pivot.loc[df_pivot['voter_dna'] == node, 'dna_counts'].iloc[0]\n",
    "        sizes.append(np.log(count+1)*10)  # Add 1 to avoid taking log of zero\n",
    "    elif node in project_dna_counts:\n",
    "        sizes.append(np.log(project_dna_counts[node]+1)*10)  # Use the sum of adjacent dna_counts for project nodes\n",
    "\n",
    "node_trace = go.Scatter3d(\n",
    "    x=node_x, y=node_y, z=node_z,\n",
    "    mode='markers',\n",
    "    hoverinfo='text',\n",
    "    marker=dict(\n",
    "        size=sizes,\n",
    "        sizemode='diameter',\n",
    "        sizeref=0.05,\n",
    "        sizemin=4,\n",
    "        line=dict(width=2))\n",
    ")\n",
    "\n",
    "# Edges\n",
    "edge_trace = []\n",
    "for edge in B.edges():\n",
    "    x0, y0 = pos[edge[0]]\n",
    "    z0 = len(B[edge[0]])\n",
    "    x1, y1 = pos[edge[1]]\n",
    "    z1 = len(B[edge[1]])\n",
    "    edge_trace.append(\n",
    "        go.Scatter3d(\n",
    "            x=[x0, x1, None], y=[y0, y1, None], z=[z0, z1, None],\n",
    "            mode='lines',\n",
    "            line=dict(width=1, color='grey'),\n",
    "            hoverinfo='none'\n",
    "        )\n",
    "    )\n",
    "\n",
    "# Create the network graph\n",
    "layout = go.Layout(\n",
    "    title='3D Network graph of voter DNA and projects',\n",
    "    width=1000,\n",
    "    height=1000,\n",
    "    showlegend=False,\n",
    "    scene=dict(\n",
    "        xaxis=dict(visible=False),\n",
    "        yaxis=dict(visible=False),\n",
    "        zaxis=dict(visible=False)\n",
    "    ),\n",
    "    margin=dict(\n",
    "        t=100\n",
    "    ),\n",
    "    hovermode='closest',\n",
    "    annotations=[\n",
    "        dict(\n",
    "            showarrow=False,\n",
    "            xref='paper',\n",
    "            yref='paper',\n",
    "            x=0,\n",
    "            y=0,\n",
    "            xanchor='left',\n",
    "            yanchor='bottom',\n",
    "            text='3D Network graph of voter DNA and projects'\n",
    "        )\n",
    "    ],\n",
    ")\n",
    "\n",
    "fig = go.Figure(data=edge_trace + [node_trace], layout=layout)\n",
    "fig.show()"
   ]
  },
  {
   "cell_type": "code",
   "execution_count": null,
   "metadata": {},
   "outputs": [],
   "source": [
    "display(df_dna_counts.head(10))"
   ]
  },
  {
   "cell_type": "code",
   "execution_count": null,
   "metadata": {},
   "outputs": [],
   "source": [
    "grants_color = 'blue'\n",
    "voters_color = 'red'\n",
    "line_color = '#008F11'\n",
    "\n",
    "# Initialize a new Graph\n",
    "B = nx.Graph()\n",
    "\n",
    "# Create nodes with the bipartite attribute\n",
    "B.add_nodes_from(df['voter'].unique(), bipartite=0, color=voters_color) \n",
    "B.add_nodes_from(df['title'].unique(), bipartite=1, color=grants_color) \n",
    "\n",
    "\n",
    "\n",
    "# Add edges with amountUSD as an attribute\n",
    "for _, row in df.iterrows():\n",
    "    B.add_edge(row['voter'], row['title'], amountUSD=row['amountUSD'])\n",
    "\n",
    "\n",
    "\n",
    "# Compute the layout\n",
    "current_time = time.time()\n",
    "pos = nx.spring_layout(B, dim=3, k = .09, iterations=50)\n",
    "new_time = time.time()\n",
    "\n",
    "\n",
    "    \n",
    "# Extract node information\n",
    "node_x = [coord[0] for coord in pos.values()]\n",
    "node_y = [coord[1] for coord in pos.values()]\n",
    "node_z = [coord[2] for coord in pos.values()] # added z-coordinates for 3D\n",
    "node_names = list(pos.keys())\n",
    "# Compute the degrees of the nodes \n",
    "degrees = np.array([B.degree(node_name) for node_name in node_names])\n",
    "# Apply the natural logarithm to the degrees \n",
    "log_degrees = np.log(degrees + 1)\n",
    "node_sizes = log_degrees * 10\n",
    "\n",
    "# Extract edge information\n",
    "edge_x = []\n",
    "edge_y = []\n",
    "edge_z = []  \n",
    "edge_weights = []\n",
    "\n",
    "for edge in B.edges(data=True):\n",
    "    x0, y0, z0 = pos[edge[0]]\n",
    "    x1, y1, z1 = pos[edge[1]]\n",
    "    edge_x.extend([x0, x1, None])\n",
    "    edge_y.extend([y0, y1, None])\n",
    "    edge_z.extend([z0, z1, None])  \n",
    "    edge_weights.append(edge[2]['amountUSD'])\n",
    "\n",
    "# Create the edge traces\n",
    "edge_trace = go.Scatter3d(\n",
    "    x=edge_x, y=edge_y, z=edge_z, \n",
    "    line=dict(width=1, color=line_color),\n",
    "    hoverinfo='none',\n",
    "    mode='lines',\n",
    "    marker=dict(opacity=0.5))\n",
    "\n",
    "\n",
    "# Create the node traces\n",
    "node_trace = go.Scatter3d(\n",
    "    x=node_x, y=node_y, z=node_z,\n",
    "    mode='markers',\n",
    "    hoverinfo='text',\n",
    "    marker=dict(\n",
    "        color=[data['color'] for _, data in B.nodes(data=True)],  # color is now assigned based on node data\n",
    "        size=node_sizes,\n",
    "        opacity=1,\n",
    "        sizemode='diameter'\n",
    "    ))\n",
    "\n",
    "\n",
    "node_adjacencies = []\n",
    "for node, adjacencies in enumerate(B.adjacency()):\n",
    "    node_adjacencies.append(len(adjacencies[1]))\n",
    "node_trace.marker.color = [data[1]['color'] for data in B.nodes(data=True)]\n",
    "\n",
    "\n",
    "# Prepare text information for hovering\n",
    "node_trace.text = [f'{name}: {adj} connections' for name, adj in zip(node_names, node_adjacencies)]\n",
    "\n",
    "# Create the figure\n",
    "fig = go.Figure(data=[edge_trace, node_trace],\n",
    "                layout=go.Layout(\n",
    "                    title='3D Network graph of voters and grants',\n",
    "                    titlefont=dict(size=20),\n",
    "                    showlegend=False,\n",
    "                    hovermode='closest',\n",
    "                    margin=dict(b=20,l=5,r=5,t=40),\n",
    "                    annotations=[ dict(\n",
    "                        showarrow=False,\n",
    "                        text=\"This graph shows the connections between voters and grants based on donation data.\",\n",
    "                        xref=\"paper\",\n",
    "                        yref=\"paper\",\n",
    "                        x=0.005,\n",
    "                        y=-0.002 )],\n",
    "                    scene = dict(\n",
    "                        xaxis_title='X Axis',\n",
    "                        yaxis_title='Y Axis',\n",
    "                        zaxis_title='Z Axis')))\n",
    "                        \n",
    "fig.show()"
   ]
  }
 ],
 "metadata": {
  "kernelspec": {
   "display_name": "base",
   "language": "python",
   "name": "python3"
  },
  "language_info": {
   "codemirror_mode": {
    "name": "ipython",
    "version": 3
   },
   "file_extension": ".py",
   "mimetype": "text/x-python",
   "name": "python",
   "nbconvert_exporter": "python",
   "pygments_lexer": "ipython3",
   "version": "3.11.3"
  },
  "orig_nbformat": 4
 },
 "nbformat": 4,
 "nbformat_minor": 2
}
